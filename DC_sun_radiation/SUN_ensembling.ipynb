{
 "cells": [
  {
   "cell_type": "code",
   "execution_count": 1,
   "metadata": {},
   "outputs": [
    {
     "data": {
      "text/html": [
       "<script>requirejs.config({paths: { 'plotly': ['https://cdn.plot.ly/plotly-latest.min']},});if(!window.Plotly) {{require(['plotly'],function(plotly) {window.Plotly=plotly;});}}</script>"
      ],
      "text/vnd.plotly.v1+html": [
       "<script>requirejs.config({paths: { 'plotly': ['https://cdn.plot.ly/plotly-latest.min']},});if(!window.Plotly) {{require(['plotly'],function(plotly) {window.Plotly=plotly;});}}</script>"
      ]
     },
     "metadata": {},
     "output_type": "display_data"
    },
    {
     "name": "stderr",
     "output_type": "stream",
     "text": [
      "E:\\program\\Anaconda3\\envs\\tensorflow_gpu\\lib\\site-packages\\sklearn\\cross_validation.py:41: DeprecationWarning:\n",
      "\n",
      "This module was deprecated in version 0.18 in favor of the model_selection module into which all the refactored classes and functions are moved. Also note that the interface of the new CV iterators are different from that of this module. This module will be removed in 0.20.\n",
      "\n"
     ]
    }
   ],
   "source": [
    "import numpy as np\n",
    "import pandas as pd\n",
    "import matplotlib.pyplot as plt\n",
    "from matplotlib import pyplot\n",
    "import seaborn as sns\n",
    "%matplotlib inline\n",
    "\n",
    "import plotly.offline as py\n",
    "py.init_notebook_mode(connected=True)\n",
    "import plotly.graph_objs as go\n",
    "import plotly.tools as tls\n",
    "\n",
    "import progressbar\n",
    "import warnings\n",
    "warnings.filterwarnings('ignore')\n",
    "\n",
    "from xgboost import XGBRegressor\n",
    "from sklearn.ensemble import (RandomForestRegressor, AdaBoostRegressor, \n",
    "                              GradientBoostingRegressor, ExtraTreesRegressor)\n",
    "from sklearn.svm import SVC\n",
    "from sklearn.cross_validation import KFold\n",
    "\n",
    "from sklearn.model_selection import GridSearchCV\n",
    "from sklearn import model_selection\n",
    "from sklearn.metrics import accuracy_score"
   ]
  },
  {
   "cell_type": "markdown",
   "metadata": {},
   "source": [
    "## load data"
   ]
  },
  {
   "cell_type": "code",
   "execution_count": 2,
   "metadata": {},
   "outputs": [
    {
     "name": "stdout",
     "output_type": "stream",
     "text": [
      "(17008, 8) (2126, 2) (7320, 8)\n"
     ]
    }
   ],
   "source": [
    "train_feature_df = pd.read_csv('train_feature.csv', low_memory=False)\n",
    "train_label_df = pd.read_csv('train_label.csv', low_memory=False)\n",
    "test_feature_df = pd.read_csv('test_feature.csv', low_memory=False)\n",
    "print(train_feature_df.shape, train_label_df.shape, test_feature_df.shape)"
   ]
  },
  {
   "cell_type": "markdown",
   "metadata": {},
   "source": [
    "## 1 remake the data for each day\n",
    "should be 7*8+2=58 cols"
   ]
  },
  {
   "cell_type": "code",
   "execution_count": 3,
   "metadata": {},
   "outputs": [],
   "source": [
    "train_feature_df_list = []\n",
    "for i in [2,5,8,11,14,17,20,23]:\n",
    "    temp_df = train_feature_df[train_feature_df['时刻'] == i].add_suffix('_'+str(i))\n",
    "    temp_df.rename(columns={'日期_'+str(i):'日期'}, inplace=True)\n",
    "    train_feature_df_list.append(temp_df )"
   ]
  },
  {
   "cell_type": "code",
   "execution_count": 4,
   "metadata": {},
   "outputs": [
    {
     "data": {
      "text/html": [
       "<div>\n",
       "<style scoped>\n",
       "    .dataframe tbody tr th:only-of-type {\n",
       "        vertical-align: middle;\n",
       "    }\n",
       "\n",
       "    .dataframe tbody tr th {\n",
       "        vertical-align: top;\n",
       "    }\n",
       "\n",
       "    .dataframe thead th {\n",
       "        text-align: right;\n",
       "    }\n",
       "</style>\n",
       "<table border=\"1\" class=\"dataframe\">\n",
       "  <thead>\n",
       "    <tr style=\"text-align: right;\">\n",
       "      <th></th>\n",
       "      <th>日期</th>\n",
       "      <th>电场实际太阳辐射指数</th>\n",
       "      <th>时刻_2</th>\n",
       "      <th>辐照度_2</th>\n",
       "      <th>风速_2</th>\n",
       "      <th>风向_2</th>\n",
       "      <th>温度_2</th>\n",
       "      <th>湿度_2</th>\n",
       "      <th>气压_2</th>\n",
       "      <th>时刻_5</th>\n",
       "      <th>...</th>\n",
       "      <th>温度_20</th>\n",
       "      <th>湿度_20</th>\n",
       "      <th>气压_20</th>\n",
       "      <th>时刻_23</th>\n",
       "      <th>辐照度_23</th>\n",
       "      <th>风速_23</th>\n",
       "      <th>风向_23</th>\n",
       "      <th>温度_23</th>\n",
       "      <th>湿度_23</th>\n",
       "      <th>气压_23</th>\n",
       "    </tr>\n",
       "  </thead>\n",
       "  <tbody>\n",
       "    <tr>\n",
       "      <th>0</th>\n",
       "      <td>1</td>\n",
       "      <td>0.108799</td>\n",
       "      <td>2</td>\n",
       "      <td>0</td>\n",
       "      <td>2.1</td>\n",
       "      <td>343</td>\n",
       "      <td>-7.2</td>\n",
       "      <td>51</td>\n",
       "      <td>69800</td>\n",
       "      <td>5</td>\n",
       "      <td>...</td>\n",
       "      <td>-3.5</td>\n",
       "      <td>40</td>\n",
       "      <td>69700</td>\n",
       "      <td>23</td>\n",
       "      <td>0</td>\n",
       "      <td>0.8</td>\n",
       "      <td>14</td>\n",
       "      <td>-4.8</td>\n",
       "      <td>42</td>\n",
       "      <td>69700</td>\n",
       "    </tr>\n",
       "    <tr>\n",
       "      <th>1</th>\n",
       "      <td>2</td>\n",
       "      <td>0.130559</td>\n",
       "      <td>2</td>\n",
       "      <td>0</td>\n",
       "      <td>1.1</td>\n",
       "      <td>45</td>\n",
       "      <td>-5.2</td>\n",
       "      <td>46</td>\n",
       "      <td>69800</td>\n",
       "      <td>5</td>\n",
       "      <td>...</td>\n",
       "      <td>-3.8</td>\n",
       "      <td>45</td>\n",
       "      <td>69400</td>\n",
       "      <td>23</td>\n",
       "      <td>0</td>\n",
       "      <td>2.5</td>\n",
       "      <td>297</td>\n",
       "      <td>-5.4</td>\n",
       "      <td>48</td>\n",
       "      <td>69500</td>\n",
       "    </tr>\n",
       "    <tr>\n",
       "      <th>2</th>\n",
       "      <td>3</td>\n",
       "      <td>0.114239</td>\n",
       "      <td>2</td>\n",
       "      <td>0</td>\n",
       "      <td>2.9</td>\n",
       "      <td>278</td>\n",
       "      <td>-7.4</td>\n",
       "      <td>58</td>\n",
       "      <td>69500</td>\n",
       "      <td>5</td>\n",
       "      <td>...</td>\n",
       "      <td>-3.8</td>\n",
       "      <td>30</td>\n",
       "      <td>69500</td>\n",
       "      <td>23</td>\n",
       "      <td>0</td>\n",
       "      <td>0.8</td>\n",
       "      <td>140</td>\n",
       "      <td>-3.8</td>\n",
       "      <td>29</td>\n",
       "      <td>69500</td>\n",
       "    </tr>\n",
       "    <tr>\n",
       "      <th>3</th>\n",
       "      <td>4</td>\n",
       "      <td>0.081599</td>\n",
       "      <td>2</td>\n",
       "      <td>0</td>\n",
       "      <td>0.3</td>\n",
       "      <td>90</td>\n",
       "      <td>-6.1</td>\n",
       "      <td>38</td>\n",
       "      <td>69500</td>\n",
       "      <td>5</td>\n",
       "      <td>...</td>\n",
       "      <td>-3.0</td>\n",
       "      <td>21</td>\n",
       "      <td>69100</td>\n",
       "      <td>23</td>\n",
       "      <td>0</td>\n",
       "      <td>0.8</td>\n",
       "      <td>270</td>\n",
       "      <td>-6.3</td>\n",
       "      <td>26</td>\n",
       "      <td>69200</td>\n",
       "    </tr>\n",
       "    <tr>\n",
       "      <th>4</th>\n",
       "      <td>5</td>\n",
       "      <td>0.212158</td>\n",
       "      <td>2</td>\n",
       "      <td>0</td>\n",
       "      <td>1.4</td>\n",
       "      <td>231</td>\n",
       "      <td>-9.9</td>\n",
       "      <td>33</td>\n",
       "      <td>69100</td>\n",
       "      <td>5</td>\n",
       "      <td>...</td>\n",
       "      <td>-6.1</td>\n",
       "      <td>26</td>\n",
       "      <td>69200</td>\n",
       "      <td>23</td>\n",
       "      <td>0</td>\n",
       "      <td>1.1</td>\n",
       "      <td>63</td>\n",
       "      <td>-7.5</td>\n",
       "      <td>28</td>\n",
       "      <td>69300</td>\n",
       "    </tr>\n",
       "  </tbody>\n",
       "</table>\n",
       "<p>5 rows × 58 columns</p>\n",
       "</div>"
      ],
      "text/plain": [
       "   日期  电场实际太阳辐射指数  时刻_2  辐照度_2  风速_2  风向_2  温度_2  湿度_2   气压_2  时刻_5  ...    \\\n",
       "0   1    0.108799     2      0   2.1   343  -7.2    51  69800     5  ...     \n",
       "1   2    0.130559     2      0   1.1    45  -5.2    46  69800     5  ...     \n",
       "2   3    0.114239     2      0   2.9   278  -7.4    58  69500     5  ...     \n",
       "3   4    0.081599     2      0   0.3    90  -6.1    38  69500     5  ...     \n",
       "4   5    0.212158     2      0   1.4   231  -9.9    33  69100     5  ...     \n",
       "\n",
       "   温度_20  湿度_20  气压_20  时刻_23  辐照度_23  风速_23  风向_23  温度_23  湿度_23  气压_23  \n",
       "0   -3.5     40  69700     23       0    0.8     14   -4.8     42  69700  \n",
       "1   -3.8     45  69400     23       0    2.5    297   -5.4     48  69500  \n",
       "2   -3.8     30  69500     23       0    0.8    140   -3.8     29  69500  \n",
       "3   -3.0     21  69100     23       0    0.8    270   -6.3     26  69200  \n",
       "4   -6.1     26  69200     23       0    1.1     63   -7.5     28  69300  \n",
       "\n",
       "[5 rows x 58 columns]"
      ]
     },
     "execution_count": 4,
     "metadata": {},
     "output_type": "execute_result"
    }
   ],
   "source": [
    "for i in range(8):\n",
    "    train_label_df = train_label_df.merge(train_feature_df_list[i], left_on = '日期', right_on='日期', how='left', suffixes=('',''))\n",
    "train_label_df.head()"
   ]
  },
  {
   "cell_type": "markdown",
   "metadata": {},
   "source": [
    "## 2. normalize data"
   ]
  },
  {
   "cell_type": "code",
   "execution_count": 5,
   "metadata": {},
   "outputs": [],
   "source": [
    "fcol = [c for c in train_label_df.columns if c not in ['日期', '时刻_2', '时刻_5', '时刻_8', '时刻_11', '时刻_14',\n",
    "                                             '时刻_17', '时刻_20', '时刻_23','辐照度_2', '辐照度_5','辐照度_23', '电场实际太阳辐射指数']]\n",
    "\n",
    "X = train_label_df[fcol].values\n",
    "y = train_label_df['电场实际太阳辐射指数']"
   ]
  },
  {
   "cell_type": "code",
   "execution_count": 6,
   "metadata": {},
   "outputs": [],
   "source": [
    "# Scaling of X values\n",
    "mins = np.min(X, axis=0)\n",
    "maxs = np.max(X, axis=0)\n",
    "rng = maxs - mins\n",
    "X = 1 - ((maxs - X) / rng)"
   ]
  },
  {
   "cell_type": "markdown",
   "metadata": {},
   "source": [
    "# Test Dataset"
   ]
  },
  {
   "cell_type": "code",
   "execution_count": 7,
   "metadata": {},
   "outputs": [
    {
     "name": "stdout",
     "output_type": "stream",
     "text": [
      "dates in test dataset is :  912.0\n"
     ]
    }
   ],
   "source": [
    "test_feature_df = test_feature_df.iloc[0:7296]\n",
    "print('dates in test dataset is : ', test_feature_df.shape[0]/8)"
   ]
  },
  {
   "cell_type": "code",
   "execution_count": 8,
   "metadata": {},
   "outputs": [],
   "source": [
    "# initalize the test label\n",
    "index = np.arange(912)\n",
    "columns = ['日期']\n",
    "data = np.array([np.arange(1, 913)]).T\n",
    "test_label_df = pd.DataFrame(data, index=index, columns=columns)"
   ]
  },
  {
   "cell_type": "code",
   "execution_count": 9,
   "metadata": {},
   "outputs": [],
   "source": [
    "test_feature_df_list = []\n",
    "for i in [2,5,8,11,14,17,20,23]:\n",
    "    temp_df = test_feature_df[test_feature_df['时刻'] == i].add_suffix('_'+str(i))\n",
    "    temp_df.rename(columns={'日期_'+str(i):'日期'}, inplace=True)\n",
    "    test_feature_df_list.append(temp_df )\n",
    "    \n",
    "for i in range(8):\n",
    "    test_label_df = test_label_df.merge(test_feature_df_list[i], left_on = '日期', right_on='日期', how='left', suffixes=('',''))"
   ]
  },
  {
   "cell_type": "code",
   "execution_count": 10,
   "metadata": {
    "scrolled": true
   },
   "outputs": [
    {
     "data": {
      "text/plain": [
       "(912, 45)"
      ]
     },
     "execution_count": 10,
     "metadata": {},
     "output_type": "execute_result"
    }
   ],
   "source": [
    "x_test = test_label_df[fcol].values\n",
    "x_test = 1 - ((maxs - x_test) / rng)\n",
    "x_test.shape"
   ]
  },
  {
   "cell_type": "markdown",
   "metadata": {},
   "source": [
    "## Parameter choose"
   ]
  },
  {
   "cell_type": "code",
   "execution_count": 20,
   "metadata": {},
   "outputs": [],
   "source": [
    "def parameter_choose(model, param_grid, if_plot = True):\n",
    "    kfold = model_selection.KFold(n_splits=10, shuffle=True, random_state=7)\n",
    "    grid_search = GridSearchCV(model, param_grid, scoring=\"neg_mean_absolute_error\", n_jobs=-1, cv=kfold, verbose=1)\n",
    "    grid_result = grid_search.fit(X, y)\n",
    "    # summarize results\n",
    "    print(\"Best: %f using %s\" % (grid_result.best_score_, grid_result.best_params_))\n",
    "    means = grid_result.cv_results_['mean_test_score']\n",
    "    stds = grid_result.cv_results_['std_test_score']\n",
    "    params = grid_result.cv_results_['params']\n",
    "    for mean, stdev, param in zip(means, stds, params):\n",
    "        print(\"%f (%f) with: %r\" % (mean, stdev, param))\n",
    "    # plot results\n",
    "    if if_plot:\n",
    "        scores = np.array(means).reshape(len(param_grid['max_depth']), len(param_grid['n_estimators']))\n",
    "        for i, value in enumerate(param_grid['max_depth']):\n",
    "            pyplot.plot(n_estimators, scores[i], label='depth: ' + str(value))\n",
    "        pyplot.legend()\n",
    "        pyplot.xlabel('n_estimators')\n",
    "        pyplot.ylabel('Log Loss')"
   ]
  },
  {
   "cell_type": "markdown",
   "metadata": {},
   "source": [
    "## RandomForest"
   ]
  },
  {
   "cell_type": "code",
   "execution_count": 21,
   "metadata": {},
   "outputs": [
    {
     "name": "stdout",
     "output_type": "stream",
     "text": [
      "Fitting 10 folds for each of 24 candidates, totalling 240 fits\n"
     ]
    },
    {
     "name": "stderr",
     "output_type": "stream",
     "text": [
      "[Parallel(n_jobs=-1)]: Done  42 tasks      | elapsed:   13.0s\n",
      "[Parallel(n_jobs=-1)]: Done 192 tasks      | elapsed:  2.0min\n",
      "[Parallel(n_jobs=-1)]: Done 240 out of 240 | elapsed:  3.1min finished\n"
     ]
    },
    {
     "name": "stdout",
     "output_type": "stream",
     "text": [
      "Best: -0.168925 using {'max_depth': 4, 'n_estimators': 200}\n",
      "-0.174437 (0.009279) with: {'max_depth': 2, 'n_estimators': 50}\n",
      "-0.174962 (0.009422) with: {'max_depth': 2, 'n_estimators': 100}\n",
      "-0.174911 (0.009234) with: {'max_depth': 2, 'n_estimators': 150}\n",
      "-0.174897 (0.009503) with: {'max_depth': 2, 'n_estimators': 200}\n",
      "-0.174904 (0.009267) with: {'max_depth': 2, 'n_estimators': 250}\n",
      "-0.174844 (0.009300) with: {'max_depth': 2, 'n_estimators': 300}\n",
      "-0.168939 (0.008853) with: {'max_depth': 4, 'n_estimators': 50}\n",
      "-0.169087 (0.008912) with: {'max_depth': 4, 'n_estimators': 100}\n",
      "-0.169320 (0.008863) with: {'max_depth': 4, 'n_estimators': 150}\n",
      "-0.168925 (0.008592) with: {'max_depth': 4, 'n_estimators': 200}\n",
      "-0.168983 (0.008694) with: {'max_depth': 4, 'n_estimators': 250}\n",
      "-0.169163 (0.008767) with: {'max_depth': 4, 'n_estimators': 300}\n",
      "-0.170281 (0.008237) with: {'max_depth': 6, 'n_estimators': 50}\n",
      "-0.169768 (0.008250) with: {'max_depth': 6, 'n_estimators': 100}\n",
      "-0.169824 (0.007654) with: {'max_depth': 6, 'n_estimators': 150}\n",
      "-0.169568 (0.008054) with: {'max_depth': 6, 'n_estimators': 200}\n",
      "-0.169454 (0.007900) with: {'max_depth': 6, 'n_estimators': 250}\n",
      "-0.169381 (0.007897) with: {'max_depth': 6, 'n_estimators': 300}\n",
      "-0.173085 (0.008484) with: {'max_depth': 8, 'n_estimators': 50}\n",
      "-0.173096 (0.008267) with: {'max_depth': 8, 'n_estimators': 100}\n",
      "-0.171843 (0.008435) with: {'max_depth': 8, 'n_estimators': 150}\n",
      "-0.171792 (0.008297) with: {'max_depth': 8, 'n_estimators': 200}\n",
      "-0.171826 (0.008468) with: {'max_depth': 8, 'n_estimators': 250}\n",
      "-0.171871 (0.008246) with: {'max_depth': 8, 'n_estimators': 300}\n"
     ]
    },
    {
     "data": {
      "image/png": "[encoded data removed]",
      "text/plain": [
       "<Figure size 432x288 with 1 Axes>"
      ]
     },
     "metadata": {},
     "output_type": "display_data"
    }
   ],
   "source": [
    "model = RandomForestRegressor()\n",
    "n_estimators = [50, 100, 150, 200, 250, 300]\n",
    "max_depth = [2, 4, 6, 8]\n",
    "param_grid = dict(max_depth=max_depth, n_estimators=n_estimators)\n",
    "parameter_choose(model, param_grid)"
   ]
  },
  {
   "cell_type": "code",
   "execution_count": 37,
   "metadata": {},
   "outputs": [
    {
     "name": "stdout",
     "output_type": "stream",
     "text": [
      "Fitting 10 folds for each of 27 candidates, totalling 270 fits\n"
     ]
    },
    {
     "name": "stderr",
     "output_type": "stream",
     "text": [
      "[Parallel(n_jobs=-1)]: Done  42 tasks      | elapsed:   36.8s\n",
      "[Parallel(n_jobs=-1)]: Done 192 tasks      | elapsed:  3.0min\n",
      "[Parallel(n_jobs=-1)]: Done 270 out of 270 | elapsed:  4.6min finished\n"
     ]
    },
    {
     "name": "stdout",
     "output_type": "stream",
     "text": [
      "Best: -0.168772 using {'n_estimators': 200, 'max_depth': 5, 'min_samples_leaf': 3}\n",
      "-0.169123 (0.008607) with: {'n_estimators': 150, 'max_depth': 4, 'min_samples_leaf': 1}\n",
      "-0.169130 (0.008423) with: {'n_estimators': 180, 'max_depth': 4, 'min_samples_leaf': 1}\n",
      "-0.168945 (0.008770) with: {'n_estimators': 200, 'max_depth': 4, 'min_samples_leaf': 1}\n",
      "-0.169079 (0.008556) with: {'n_estimators': 150, 'max_depth': 4, 'min_samples_leaf': 2}\n",
      "-0.169174 (0.008970) with: {'n_estimators': 180, 'max_depth': 4, 'min_samples_leaf': 2}\n",
      "-0.169052 (0.008715) with: {'n_estimators': 200, 'max_depth': 4, 'min_samples_leaf': 2}\n",
      "-0.169218 (0.008779) with: {'n_estimators': 150, 'max_depth': 4, 'min_samples_leaf': 3}\n",
      "-0.168963 (0.008872) with: {'n_estimators': 180, 'max_depth': 4, 'min_samples_leaf': 3}\n",
      "-0.168909 (0.008807) with: {'n_estimators': 200, 'max_depth': 4, 'min_samples_leaf': 3}\n",
      "-0.168941 (0.007905) with: {'n_estimators': 150, 'max_depth': 5, 'min_samples_leaf': 1}\n",
      "-0.169042 (0.008265) with: {'n_estimators': 180, 'max_depth': 5, 'min_samples_leaf': 1}\n",
      "-0.169113 (0.008124) with: {'n_estimators': 200, 'max_depth': 5, 'min_samples_leaf': 1}\n",
      "-0.169096 (0.008323) with: {'n_estimators': 150, 'max_depth': 5, 'min_samples_leaf': 2}\n",
      "-0.169027 (0.008139) with: {'n_estimators': 180, 'max_depth': 5, 'min_samples_leaf': 2}\n",
      "-0.169144 (0.008264) with: {'n_estimators': 200, 'max_depth': 5, 'min_samples_leaf': 2}\n",
      "-0.168961 (0.008238) with: {'n_estimators': 150, 'max_depth': 5, 'min_samples_leaf': 3}\n",
      "-0.168907 (0.007989) with: {'n_estimators': 180, 'max_depth': 5, 'min_samples_leaf': 3}\n",
      "-0.168772 (0.008355) with: {'n_estimators': 200, 'max_depth': 5, 'min_samples_leaf': 3}\n",
      "-0.169314 (0.008189) with: {'n_estimators': 150, 'max_depth': 6, 'min_samples_leaf': 1}\n",
      "-0.169148 (0.008282) with: {'n_estimators': 180, 'max_depth': 6, 'min_samples_leaf': 1}\n",
      "-0.169397 (0.007904) with: {'n_estimators': 200, 'max_depth': 6, 'min_samples_leaf': 1}\n",
      "-0.169507 (0.008621) with: {'n_estimators': 150, 'max_depth': 6, 'min_samples_leaf': 2}\n",
      "-0.169501 (0.008654) with: {'n_estimators': 180, 'max_depth': 6, 'min_samples_leaf': 2}\n",
      "-0.169485 (0.007959) with: {'n_estimators': 200, 'max_depth': 6, 'min_samples_leaf': 2}\n",
      "-0.169689 (0.008533) with: {'n_estimators': 150, 'max_depth': 6, 'min_samples_leaf': 3}\n",
      "-0.169421 (0.008256) with: {'n_estimators': 180, 'max_depth': 6, 'min_samples_leaf': 3}\n",
      "-0.169485 (0.008556) with: {'n_estimators': 200, 'max_depth': 6, 'min_samples_leaf': 3}\n"
     ]
    }
   ],
   "source": [
    "model = RandomForestRegressor()\n",
    "n_estimators = [150, 180, 200]\n",
    "max_depth = [4,5,6]\n",
    "min_samples_leaf = [1,2,3]\n",
    "param_grid = dict(max_depth=max_depth, n_estimators=n_estimators, min_samples_leaf=min_samples_leaf)\n",
    "parameter_choose(model, param_grid, False)"
   ]
  },
  {
   "cell_type": "markdown",
   "metadata": {},
   "source": [
    "Best: -0.168845 using {'n_estimators': 150, 'max_depth': 4, 'min_samples_leaf': 1}\n",
    "\n",
    "Best: -0.168509 using {'n_estimators': 180, 'max_depth': 5, 'min_samples_leaf': 2}\n",
    "\n",
    "Best: -0.168772 using {'n_estimators': 200, 'max_depth': 5, 'min_samples_leaf': 3}"
   ]
  },
  {
   "cell_type": "markdown",
   "metadata": {},
   "source": [
    "## ExtraTrees"
   ]
  },
  {
   "cell_type": "code",
   "execution_count": 38,
   "metadata": {
    "scrolled": true
   },
   "outputs": [
    {
     "name": "stdout",
     "output_type": "stream",
     "text": [
      "Fitting 10 folds for each of 27 candidates, totalling 270 fits\n"
     ]
    },
    {
     "name": "stderr",
     "output_type": "stream",
     "text": [
      "[Parallel(n_jobs=-1)]: Done  42 tasks      | elapsed:    8.1s\n",
      "[Parallel(n_jobs=-1)]: Done 192 tasks      | elapsed:   28.4s\n",
      "[Parallel(n_jobs=-1)]: Done 270 out of 270 | elapsed:   41.4s finished\n"
     ]
    },
    {
     "name": "stdout",
     "output_type": "stream",
     "text": [
      "Best: -0.168528 using {'n_estimators': 100, 'max_depth': 6, 'min_samples_leaf': 5}\n",
      "-0.169724 (0.008107) with: {'n_estimators': 100, 'max_depth': 5, 'min_samples_leaf': 3}\n",
      "-0.169396 (0.008182) with: {'n_estimators': 80, 'max_depth': 5, 'min_samples_leaf': 3}\n",
      "-0.169425 (0.008050) with: {'n_estimators': 60, 'max_depth': 5, 'min_samples_leaf': 3}\n",
      "-0.169292 (0.008092) with: {'n_estimators': 100, 'max_depth': 5, 'min_samples_leaf': 4}\n",
      "-0.169348 (0.008050) with: {'n_estimators': 80, 'max_depth': 5, 'min_samples_leaf': 4}\n",
      "-0.169385 (0.008328) with: {'n_estimators': 60, 'max_depth': 5, 'min_samples_leaf': 4}\n",
      "-0.169356 (0.008055) with: {'n_estimators': 100, 'max_depth': 5, 'min_samples_leaf': 5}\n",
      "-0.169572 (0.008225) with: {'n_estimators': 80, 'max_depth': 5, 'min_samples_leaf': 5}\n",
      "-0.169613 (0.007905) with: {'n_estimators': 60, 'max_depth': 5, 'min_samples_leaf': 5}\n",
      "-0.169069 (0.008291) with: {'n_estimators': 100, 'max_depth': 6, 'min_samples_leaf': 3}\n",
      "-0.168798 (0.007962) with: {'n_estimators': 80, 'max_depth': 6, 'min_samples_leaf': 3}\n",
      "-0.169026 (0.008047) with: {'n_estimators': 60, 'max_depth': 6, 'min_samples_leaf': 3}\n",
      "-0.168745 (0.008226) with: {'n_estimators': 100, 'max_depth': 6, 'min_samples_leaf': 4}\n",
      "-0.169014 (0.007984) with: {'n_estimators': 80, 'max_depth': 6, 'min_samples_leaf': 4}\n",
      "-0.168920 (0.008275) with: {'n_estimators': 60, 'max_depth': 6, 'min_samples_leaf': 4}\n",
      "-0.168528 (0.008181) with: {'n_estimators': 100, 'max_depth': 6, 'min_samples_leaf': 5}\n",
      "-0.168633 (0.007901) with: {'n_estimators': 80, 'max_depth': 6, 'min_samples_leaf': 5}\n",
      "-0.168843 (0.007874) with: {'n_estimators': 60, 'max_depth': 6, 'min_samples_leaf': 5}\n",
      "-0.169401 (0.008549) with: {'n_estimators': 100, 'max_depth': 7, 'min_samples_leaf': 3}\n",
      "-0.169537 (0.008101) with: {'n_estimators': 80, 'max_depth': 7, 'min_samples_leaf': 3}\n",
      "-0.169725 (0.008120) with: {'n_estimators': 60, 'max_depth': 7, 'min_samples_leaf': 3}\n",
      "-0.169682 (0.008284) with: {'n_estimators': 100, 'max_depth': 7, 'min_samples_leaf': 4}\n",
      "-0.169116 (0.008201) with: {'n_estimators': 80, 'max_depth': 7, 'min_samples_leaf': 4}\n",
      "-0.169627 (0.008410) with: {'n_estimators': 60, 'max_depth': 7, 'min_samples_leaf': 4}\n",
      "-0.169026 (0.008100) with: {'n_estimators': 100, 'max_depth': 7, 'min_samples_leaf': 5}\n",
      "-0.169310 (0.008159) with: {'n_estimators': 80, 'max_depth': 7, 'min_samples_leaf': 5}\n",
      "-0.168937 (0.008286) with: {'n_estimators': 60, 'max_depth': 7, 'min_samples_leaf': 5}\n"
     ]
    }
   ],
   "source": [
    "model = ExtraTreesRegressor()\n",
    "n_estimators = [100, 80, 60]\n",
    "max_depth = [5, 6, 7]\n",
    "min_samples_leaf = [3,4, 5]\n",
    "param_grid = dict(max_depth=max_depth, n_estimators=n_estimators, min_samples_leaf=min_samples_leaf)\n",
    "parameter_choose(model, param_grid, False)"
   ]
  },
  {
   "cell_type": "markdown",
   "metadata": {},
   "source": [
    "Best: -0.169201 using {'n_estimators': 150, 'max_depth': 5, 'min_samples_leaf': 2}\n",
    "\n",
    "Best: -0.168628 using {'n_estimators': 80, 'max_depth': 6, 'min_samples_leaf': 4}\n",
    "\n",
    "Best: -0.168528 using {'n_estimators': 100, 'max_depth': 6, 'min_samples_leaf': 5}"
   ]
  },
  {
   "cell_type": "markdown",
   "metadata": {},
   "source": [
    "## AdaBoost"
   ]
  },
  {
   "cell_type": "code",
   "execution_count": 30,
   "metadata": {
    "scrolled": true
   },
   "outputs": [
    {
     "name": "stdout",
     "output_type": "stream",
     "text": [
      "Fitting 10 folds for each of 25 candidates, totalling 250 fits\n"
     ]
    },
    {
     "name": "stderr",
     "output_type": "stream",
     "text": [
      "[Parallel(n_jobs=-1)]: Done  42 tasks      | elapsed:   11.5s\n",
      "[Parallel(n_jobs=-1)]: Done 192 tasks      | elapsed:   38.3s\n",
      "[Parallel(n_jobs=-1)]: Done 250 out of 250 | elapsed:   49.0s finished\n"
     ]
    },
    {
     "name": "stdout",
     "output_type": "stream",
     "text": [
      "Best: -0.171021 using {'n_estimators': 40, 'learning_rate': 0.05}\n",
      "-0.171886 (0.008898) with: {'n_estimators': 30, 'learning_rate': 0.1}\n",
      "-0.171261 (0.009139) with: {'n_estimators': 40, 'learning_rate': 0.1}\n",
      "-0.171894 (0.009065) with: {'n_estimators': 50, 'learning_rate': 0.1}\n",
      "-0.172544 (0.009226) with: {'n_estimators': 60, 'learning_rate': 0.1}\n",
      "-0.172818 (0.008926) with: {'n_estimators': 70, 'learning_rate': 0.1}\n",
      "-0.171950 (0.009284) with: {'n_estimators': 30, 'learning_rate': 0.05}\n",
      "-0.171021 (0.009529) with: {'n_estimators': 40, 'learning_rate': 0.05}\n",
      "-0.171079 (0.009886) with: {'n_estimators': 50, 'learning_rate': 0.05}\n",
      "-0.171103 (0.009207) with: {'n_estimators': 60, 'learning_rate': 0.05}\n",
      "-0.171430 (0.009407) with: {'n_estimators': 70, 'learning_rate': 0.05}\n",
      "-0.171470 (0.009113) with: {'n_estimators': 30, 'learning_rate': 0.08}\n",
      "-0.171402 (0.009489) with: {'n_estimators': 40, 'learning_rate': 0.08}\n",
      "-0.171686 (0.009026) with: {'n_estimators': 50, 'learning_rate': 0.08}\n",
      "-0.171767 (0.009755) with: {'n_estimators': 60, 'learning_rate': 0.08}\n",
      "-0.171613 (0.009189) with: {'n_estimators': 70, 'learning_rate': 0.08}\n",
      "-0.172155 (0.009831) with: {'n_estimators': 30, 'learning_rate': 0.15}\n",
      "-0.171876 (0.009489) with: {'n_estimators': 40, 'learning_rate': 0.15}\n",
      "-0.172764 (0.009014) with: {'n_estimators': 50, 'learning_rate': 0.15}\n",
      "-0.172927 (0.009383) with: {'n_estimators': 60, 'learning_rate': 0.15}\n",
      "-0.173089 (0.008816) with: {'n_estimators': 70, 'learning_rate': 0.15}\n",
      "-0.172801 (0.009124) with: {'n_estimators': 30, 'learning_rate': 0.18}\n",
      "-0.172305 (0.009326) with: {'n_estimators': 40, 'learning_rate': 0.18}\n",
      "-0.173261 (0.009100) with: {'n_estimators': 50, 'learning_rate': 0.18}\n",
      "-0.172591 (0.009164) with: {'n_estimators': 60, 'learning_rate': 0.18}\n",
      "-0.173867 (0.008732) with: {'n_estimators': 70, 'learning_rate': 0.18}\n"
     ]
    }
   ],
   "source": [
    "model = AdaBoostRegressor()\n",
    "n_estimators = [30,40,50, 60,70]\n",
    "learning_rate = [0.1, 0.05, 0.08, 0.15, 0.18]\n",
    "param_grid = dict(learning_rate=learning_rate, n_estimators=n_estimators)\n",
    "parameter_choose(model, param_grid, False)"
   ]
  },
  {
   "cell_type": "markdown",
   "metadata": {},
   "source": [
    "Best: -0.171021 using {'n_estimators': 40, 'learning_rate': 0.05}"
   ]
  },
  {
   "cell_type": "markdown",
   "metadata": {},
   "source": [
    "## GradientBoosting"
   ]
  },
  {
   "cell_type": "code",
   "execution_count": 31,
   "metadata": {
    "scrolled": true
   },
   "outputs": [
    {
     "name": "stdout",
     "output_type": "stream",
     "text": [
      "Fitting 10 folds for each of 36 candidates, totalling 360 fits\n"
     ]
    },
    {
     "name": "stderr",
     "output_type": "stream",
     "text": [
      "[Parallel(n_jobs=-1)]: Done  42 tasks      | elapsed:    3.5s\n",
      "[Parallel(n_jobs=-1)]: Done 330 tasks      | elapsed:   19.5s\n",
      "[Parallel(n_jobs=-1)]: Done 360 out of 360 | elapsed:   22.6s finished\n"
     ]
    },
    {
     "name": "stdout",
     "output_type": "stream",
     "text": [
      "Best: -0.167289 using {'n_estimators': 100, 'max_depth': 2, 'min_samples_leaf': 2}\n",
      "-0.173441 (0.008568) with: {'n_estimators': 50, 'max_depth': 1, 'min_samples_leaf': 1}\n",
      "-0.171711 (0.008287) with: {'n_estimators': 80, 'max_depth': 1, 'min_samples_leaf': 1}\n",
      "-0.171270 (0.008219) with: {'n_estimators': 100, 'max_depth': 1, 'min_samples_leaf': 1}\n",
      "-0.170964 (0.008168) with: {'n_estimators': 120, 'max_depth': 1, 'min_samples_leaf': 1}\n",
      "-0.173441 (0.008568) with: {'n_estimators': 50, 'max_depth': 1, 'min_samples_leaf': 2}\n",
      "-0.171751 (0.008288) with: {'n_estimators': 80, 'max_depth': 1, 'min_samples_leaf': 2}\n",
      "-0.171356 (0.008220) with: {'n_estimators': 100, 'max_depth': 1, 'min_samples_leaf': 2}\n",
      "-0.171044 (0.008163) with: {'n_estimators': 120, 'max_depth': 1, 'min_samples_leaf': 2}\n",
      "-0.173441 (0.008568) with: {'n_estimators': 50, 'max_depth': 1, 'min_samples_leaf': 3}\n",
      "-0.171721 (0.008294) with: {'n_estimators': 80, 'max_depth': 1, 'min_samples_leaf': 3}\n",
      "-0.171338 (0.008203) with: {'n_estimators': 100, 'max_depth': 1, 'min_samples_leaf': 3}\n",
      "-0.171070 (0.008079) with: {'n_estimators': 120, 'max_depth': 1, 'min_samples_leaf': 3}\n",
      "-0.167804 (0.008593) with: {'n_estimators': 50, 'max_depth': 2, 'min_samples_leaf': 1}\n",
      "-0.167492 (0.008480) with: {'n_estimators': 80, 'max_depth': 2, 'min_samples_leaf': 1}\n",
      "-0.167555 (0.008471) with: {'n_estimators': 100, 'max_depth': 2, 'min_samples_leaf': 1}\n",
      "-0.167528 (0.008322) with: {'n_estimators': 120, 'max_depth': 2, 'min_samples_leaf': 1}\n",
      "-0.167761 (0.008431) with: {'n_estimators': 50, 'max_depth': 2, 'min_samples_leaf': 2}\n",
      "-0.167586 (0.008655) with: {'n_estimators': 80, 'max_depth': 2, 'min_samples_leaf': 2}\n",
      "-0.167289 (0.008321) with: {'n_estimators': 100, 'max_depth': 2, 'min_samples_leaf': 2}\n",
      "-0.167427 (0.008101) with: {'n_estimators': 120, 'max_depth': 2, 'min_samples_leaf': 2}\n",
      "-0.167892 (0.008373) with: {'n_estimators': 50, 'max_depth': 2, 'min_samples_leaf': 3}\n",
      "-0.167554 (0.008352) with: {'n_estimators': 80, 'max_depth': 2, 'min_samples_leaf': 3}\n",
      "-0.167427 (0.008037) with: {'n_estimators': 100, 'max_depth': 2, 'min_samples_leaf': 3}\n",
      "-0.167739 (0.007935) with: {'n_estimators': 120, 'max_depth': 2, 'min_samples_leaf': 3}\n",
      "-0.168236 (0.008445) with: {'n_estimators': 50, 'max_depth': 3, 'min_samples_leaf': 1}\n",
      "-0.169635 (0.008706) with: {'n_estimators': 80, 'max_depth': 3, 'min_samples_leaf': 1}\n",
      "-0.170324 (0.008516) with: {'n_estimators': 100, 'max_depth': 3, 'min_samples_leaf': 1}\n",
      "-0.171443 (0.008556) with: {'n_estimators': 120, 'max_depth': 3, 'min_samples_leaf': 1}\n",
      "-0.167996 (0.008360) with: {'n_estimators': 50, 'max_depth': 3, 'min_samples_leaf': 2}\n",
      "-0.168825 (0.008254) with: {'n_estimators': 80, 'max_depth': 3, 'min_samples_leaf': 2}\n",
      "-0.169710 (0.008458) with: {'n_estimators': 100, 'max_depth': 3, 'min_samples_leaf': 2}\n",
      "-0.170567 (0.008656) with: {'n_estimators': 120, 'max_depth': 3, 'min_samples_leaf': 2}\n",
      "-0.168699 (0.008094) with: {'n_estimators': 50, 'max_depth': 3, 'min_samples_leaf': 3}\n",
      "-0.169631 (0.008374) with: {'n_estimators': 80, 'max_depth': 3, 'min_samples_leaf': 3}\n",
      "-0.170563 (0.008278) with: {'n_estimators': 100, 'max_depth': 3, 'min_samples_leaf': 3}\n",
      "-0.171282 (0.008386) with: {'n_estimators': 120, 'max_depth': 3, 'min_samples_leaf': 3}\n"
     ]
    }
   ],
   "source": [
    "model = GradientBoostingRegressor()\n",
    "n_estimators = [50,80, 100, 120]\n",
    "max_depth = [1, 2, 3]\n",
    "min_samples_leaf = [1,2,3]\n",
    "param_grid = dict(max_depth=max_depth, n_estimators=n_estimators, min_samples_leaf=min_samples_leaf)\n",
    "parameter_choose(model, param_grid, False)"
   ]
  },
  {
   "cell_type": "markdown",
   "metadata": {},
   "source": [
    "Best: -0.167289 using {'n_estimators': 100, 'max_depth': 2, 'min_samples_leaf': 2}"
   ]
  },
  {
   "cell_type": "markdown",
   "metadata": {},
   "source": [
    "# Ensemble learning"
   ]
  },
  {
   "cell_type": "code",
   "execution_count": 41,
   "metadata": {},
   "outputs": [
    {
     "name": "stdout",
     "output_type": "stream",
     "text": [
      "shape of the x train is : (2126, 45)\n",
      "shape of the y train is : (2126,)\n"
     ]
    }
   ],
   "source": [
    "x_train = X\n",
    "y_train = y\n",
    "print('shape of the x train is :', x_train.shape)\n",
    "print('shape of the y train is :', y_train.shape)"
   ]
  },
  {
   "cell_type": "code",
   "execution_count": 42,
   "metadata": {},
   "outputs": [],
   "source": [
    "# Some useful parameters which will come in handy later on\n",
    "ntrain = x_train.shape[0]\n",
    "ntest = x_test.shape[0]\n",
    "SEED = 0 # for reproducibility\n",
    "NFOLDS = 5 # set folds for out-of-fold prediction\n",
    "\n",
    "kf = KFold(ntrain, n_folds= NFOLDS, random_state=SEED)\n",
    "\n",
    "# Class to extend the Sklearn classifier\n",
    "class SklearnHelper(object):\n",
    "    def __init__(self, clf, seed=0, params=None):\n",
    "        params['random_state'] = seed\n",
    "        self.clf = clf(**params)\n",
    "        \n",
    "    def train(self, x_train, y_train):\n",
    "        self.clf.fit(x_train, y_train)\n",
    "\n",
    "    def predict(self, x):\n",
    "        return self.clf.predict(x)\n",
    "    \n",
    "    def fit(self,x,y):\n",
    "        return self.clf.fit(x,y)\n",
    "    \n",
    "    def feature_importances(self,x,y):\n",
    "        print(self.clf.fit(x,y).feature_importances_)\n",
    "    \n",
    "# Class to extend XGboost classifer\n",
    "\n",
    "def get_oof(clf, x_train, y_train, x_test):\n",
    "    oof_train = np.zeros((ntrain,))\n",
    "    oof_test = np.zeros((ntest,))\n",
    "    oof_test_skf = np.empty((NFOLDS, ntest))\n",
    "\n",
    "    for i, (train_index, test_index) in enumerate(kf):\n",
    "        x_tr = x_train[train_index]\n",
    "        y_tr = y_train[train_index]\n",
    "        x_te = x_train[test_index]\n",
    "\n",
    "        clf.train(x_tr, y_tr)\n",
    "\n",
    "        oof_train[test_index] = clf.predict(x_te)\n",
    "        oof_test_skf[i, :] = clf.predict(x_test)\n",
    "\n",
    "    oof_test[:] = oof_test_skf.mean(axis=0)\n",
    "    oof_test = oof_test.reshape(-1, 1)\n",
    "    return oof_train.reshape(-1, 1) , oof_test"
   ]
  },
  {
   "cell_type": "markdown",
   "metadata": {},
   "source": [
    "## First level"
   ]
  },
  {
   "cell_type": "code",
   "execution_count": 43,
   "metadata": {},
   "outputs": [],
   "source": [
    "# Put in our parameters for said classifiers\n",
    "# Random Forest parameters\n",
    "rf_params = {'n_jobs': -1,'n_estimators': 180,'warm_start': True, 'max_depth': 5,'min_samples_leaf': 2, \n",
    "             'max_features' : 'sqrt','verbose': 0}\n",
    "\n",
    "# Extra Trees Parameters\n",
    "et_params = {'n_jobs': -1,'n_estimators':100,'max_depth': 6, 'min_samples_leaf': 4, 'verbose': 0}\n",
    "\n",
    "# AdaBoost parameters\n",
    "ada_params = {'n_estimators': 40,'learning_rate' : 0.05}\n",
    "\n",
    "# Gradient Boosting parameters\n",
    "gb_params = {'n_estimators': 100,'max_depth': 2,'min_samples_leaf': 2,'verbose': 0}\n",
    "\n",
    "# Support Vector Classifier parameters \n",
    "svc_params = { 'kernel' : 'linear', 'C' : 0.025}\n",
    "\n",
    "xgb_params = {'n_jobs': -1,'n_estimators':100,'max_depth': 2 }"
   ]
  },
  {
   "cell_type": "code",
   "execution_count": 44,
   "metadata": {},
   "outputs": [],
   "source": [
    "# Create 5 objects that represent our 4 models\n",
    "rf = SklearnHelper(clf=RandomForestRegressor, seed=SEED, params=rf_params)\n",
    "et = SklearnHelper(clf=ExtraTreesRegressor, seed=SEED, params=et_params)\n",
    "ada = SklearnHelper(clf=AdaBoostRegressor, seed=SEED, params=ada_params)\n",
    "gb = SklearnHelper(clf=GradientBoostingRegressor, seed=SEED, params=gb_params)\n",
    "xgb = SklearnHelper(clf=XGBRegressor, seed=SEED, params=xgb_params)\n",
    "#svc = SklearnHelper(clf=SVC, seed=SEED, params=svc_params)"
   ]
  },
  {
   "cell_type": "code",
   "execution_count": 45,
   "metadata": {
    "scrolled": true
   },
   "outputs": [
    {
     "name": "stdout",
     "output_type": "stream",
     "text": [
      "Done Extra Trees\n",
      "Done Random Forest\n",
      "Done AdaBoost\n",
      "Done Gradient Boost\n",
      "Done XGB\n",
      "Training is complete\n"
     ]
    }
   ],
   "source": [
    "# Create our OOF train and test predictions. These base results will be used as new features\n",
    "et_oof_train, et_oof_test = get_oof(et, x_train, y_train, x_test) # Extra Trees\n",
    "print('Done Extra Trees')\n",
    "rf_oof_train, rf_oof_test = get_oof(rf,x_train, y_train, x_test) # Random Forest\n",
    "print('Done Random Forest')\n",
    "ada_oof_train, ada_oof_test = get_oof(ada, x_train, y_train, x_test) # AdaBoost \n",
    "print('Done AdaBoost')\n",
    "gb_oof_train, gb_oof_test = get_oof(gb,x_train, y_train, x_test) # Gradient Boost\n",
    "print('Done Gradient Boost')\n",
    "xgb_oof_train, xgb_oof_test = get_oof(xgb,x_train, y_train, x_test) # Support Vector Classifier\n",
    "print('Done XGB')\n",
    "print(\"Training is complete\")"
   ]
  },
  {
   "cell_type": "code",
   "execution_count": 46,
   "metadata": {
    "scrolled": true
   },
   "outputs": [
    {
     "name": "stdout",
     "output_type": "stream",
     "text": [
      "[0.00673561 0.00969992 0.04466623 0.0206366  0.00978916 0.00546641\n",
      " 0.00882518 0.04825099 0.03181454 0.01086491 0.06944354 0.0063823\n",
      " 0.00680104 0.07854601 0.02646668 0.00654161 0.02920315 0.00890798\n",
      " 0.00722658 0.03910594 0.05882344 0.00825194 0.02845049 0.00722396\n",
      " 0.00683382 0.04216189 0.02685853 0.00638293 0.01233836 0.01222093\n",
      " 0.00716493 0.02842295 0.03633153 0.0061946  0.04413062 0.01293875\n",
      " 0.01078644 0.02871671 0.02621021 0.00441169 0.01168465 0.00797312\n",
      " 0.03163584 0.05338638 0.00509091]\n",
      "[0.00443444 0.00772808 0.03519363 0.01884948 0.0074228  0.00559931\n",
      " 0.00746555 0.0409493  0.02187347 0.00798422 0.11995719 0.00397355\n",
      " 0.00474861 0.11706779 0.0167555  0.00765487 0.03549354 0.00593202\n",
      " 0.00446749 0.0488612  0.02945572 0.0080899  0.03801566 0.00591313\n",
      " 0.00519673 0.04037818 0.01916732 0.00368645 0.00674699 0.00893442\n",
      " 0.00334814 0.01459579 0.02463967 0.00365485 0.07348498 0.01508396\n",
      " 0.00417638 0.0607468  0.02602984 0.00347557 0.00568307 0.00482488\n",
      " 0.02962145 0.03872516 0.0039129 ]\n",
      "[3.80334833e-03 3.71477542e-03 1.67389436e-02 2.33306543e-03\n",
      " 4.46435620e-03 0.00000000e+00 4.47751408e-03 1.46614262e-04\n",
      " 5.23849215e-02 8.41045561e-03 4.58408487e-02 0.00000000e+00\n",
      " 6.69158489e-03 2.54260909e-01 8.60391479e-04 9.70114389e-03\n",
      " 3.79697105e-02 2.54412483e-03 3.48224028e-03 2.28908992e-03\n",
      " 2.23292255e-02 7.09399309e-03 5.91099622e-02 3.09326136e-03\n",
      " 1.11101635e-02 4.92549168e-02 1.18341546e-02 1.73156485e-03\n",
      " 4.66177743e-03 8.64776687e-03 1.88667031e-03 9.36726068e-04\n",
      " 1.78427404e-02 1.16534004e-03 2.29422879e-01 1.24177567e-02\n",
      " 4.98597523e-03 0.00000000e+00 1.11429350e-02 0.00000000e+00\n",
      " 3.25058505e-03 1.83633553e-03 3.11899795e-03 7.20895332e-02\n",
      " 9.22701890e-04]\n",
      "[0.01828574 0.03740134 0.00349299 0.0413588  0.01928731 0.01539829\n",
      " 0.02695149 0.00938834 0.03487441 0.00609377 0.06613206 0.\n",
      " 0.02255647 0.08291013 0.         0.01168189 0.03754094 0.03061281\n",
      " 0.00524615 0.0040429  0.00810888 0.01543498 0.0446469  0.00500601\n",
      " 0.02738844 0.         0.02865849 0.         0.02094728 0.02182937\n",
      " 0.01546436 0.00911468 0.00376356 0.         0.08264713 0.02826608\n",
      " 0.02703441 0.01200914 0.00466681 0.00667397 0.03463971 0.0355672\n",
      " 0.00768307 0.08053747 0.00665622]\n",
      "[0.05084746 0.04067796 0.00677966 0.03389831 0.01694915 0.02372881\n",
      " 0.02711864 0.01694915 0.03389831 0.00677966 0.05762712 0.\n",
      " 0.02711864 0.04745763 0.         0.02033898 0.04745763 0.02372881\n",
      " 0.         0.         0.00338983 0.02372881 0.05423729 0.\n",
      " 0.02033898 0.         0.02711864 0.         0.02033898 0.03050848\n",
      " 0.01016949 0.02372881 0.00338983 0.         0.06779661 0.02372881\n",
      " 0.04067796 0.00677966 0.01016949 0.01016949 0.02711864 0.02711864\n",
      " 0.01016949 0.07118644 0.00677966]\n"
     ]
    }
   ],
   "source": [
    "rf_feature = rf.feature_importances(x_train,y_train)\n",
    "et_feature = et.feature_importances(x_train, y_train)\n",
    "ada_feature = ada.feature_importances(x_train, y_train)\n",
    "gb_feature = gb.feature_importances(x_train,y_train)\n",
    "xgb_feature = xgb.feature_importances(x_train,y_train)"
   ]
  },
  {
   "cell_type": "markdown",
   "metadata": {},
   "source": [
    "## Second level"
   ]
  },
  {
   "cell_type": "code",
   "execution_count": 47,
   "metadata": {},
   "outputs": [],
   "source": [
    "x_train = np.concatenate(( et_oof_train, rf_oof_train, ada_oof_train, gb_oof_train, xgb_oof_train), axis=1)\n",
    "x_test = np.concatenate(( et_oof_test, rf_oof_test, ada_oof_test, gb_oof_test, xgb_oof_test), axis=1)"
   ]
  },
  {
   "cell_type": "code",
   "execution_count": 62,
   "metadata": {},
   "outputs": [
    {
     "name": "stdout",
     "output_type": "stream",
     "text": [
      "(2126, 5) (912, 5)\n"
     ]
    }
   ],
   "source": [
    "print(x_train.shape, x_test.shape)"
   ]
  },
  {
   "cell_type": "code",
   "execution_count": 61,
   "metadata": {},
   "outputs": [
    {
     "name": "stdout",
     "output_type": "stream",
     "text": [
      "Fitting 10 folds for each of 1440 candidates, totalling 14400 fits\n"
     ]
    },
    {
     "name": "stderr",
     "output_type": "stream",
     "text": [
      "[Parallel(n_jobs=-1)]: Done  42 tasks      | elapsed:    3.3s\n",
      "[Parallel(n_jobs=-1)]: Done 329 tasks      | elapsed:   13.2s\n",
      "[Parallel(n_jobs=-1)]: Done 829 tasks      | elapsed:   30.7s\n",
      "[Parallel(n_jobs=-1)]: Done 1529 tasks      | elapsed:   54.7s\n",
      "[Parallel(n_jobs=-1)]: Done 2429 tasks      | elapsed:  1.4min\n",
      "[Parallel(n_jobs=-1)]: Done 3529 tasks      | elapsed:  2.0min\n",
      "[Parallel(n_jobs=-1)]: Done 4829 tasks      | elapsed:  2.8min\n",
      "[Parallel(n_jobs=-1)]: Done 6329 tasks      | elapsed:  3.5min\n",
      "[Parallel(n_jobs=-1)]: Done 8029 tasks      | elapsed:  4.4min\n",
      "[Parallel(n_jobs=-1)]: Done 9929 tasks      | elapsed:  5.6min\n",
      "[Parallel(n_jobs=-1)]: Done 12029 tasks      | elapsed:  7.1min\n",
      "[Parallel(n_jobs=-1)]: Done 14329 tasks      | elapsed:  8.8min\n",
      "[Parallel(n_jobs=-1)]: Done 14393 out of 14400 | elapsed:  8.8min remaining:    0.2s\n",
      "[Parallel(n_jobs=-1)]: Done 14400 out of 14400 | elapsed:  8.8min finished\n"
     ]
    },
    {
     "name": "stdout",
     "output_type": "stream",
     "text": [
      "Best: -0.149461 using {'max_depth': 6, 'n_estimators': 140, 'gamma': 0.5, 'learning_rate': 0.13, 'min_child_weight': 2, 'colsample_bytree': 0.8}\n"
     ]
    }
   ],
   "source": [
    "model = XGBRegressor()\n",
    "eta = np.array([0.07,0.09, 0.11 ,0.13])\n",
    "n_estimators = [80, 100, 120, 140]\n",
    "max_depth = [4, 5, 6]\n",
    "min_child_weight= [1, 2]\n",
    "gamma = [0.8, 0.7, 0.6, 0.5, 0.9]\n",
    "colsample_bytree = [0.8, 0.7, 0.9]\n",
    "param_grid = dict(learning_rate = eta, max_depth = max_depth, n_estimators = n_estimators, \n",
    "                  min_child_weight = min_child_weight, gamma = gamma, colsample_bytree = colsample_bytree)\n",
    "kfold = model_selection.KFold(n_splits=10, shuffle=True, random_state=7)\n",
    "grid_search = GridSearchCV(model, param_grid, scoring=\"neg_mean_absolute_error\", n_jobs=-1, cv=kfold, verbose=1)\n",
    "grid_result = grid_search.fit(x_train, y)\n",
    "# summarize results\n",
    "print(\"Best: %f using %s\" % (grid_result.best_score_, grid_result.best_params_))"
   ]
  },
  {
   "cell_type": "markdown",
   "metadata": {},
   "source": [
    "Best: -0.152843 using {'gamma': 0.8, 'n_estimators': 100, 'min_child_weight': 1, 'max_depth': 5, 'learning_rate': 0.05}\n",
    "\n",
    "Best: -0.149742 using {'gamma': 0.5, 'n_estimators': 100, 'min_child_weight': 1, 'max_depth': 5, 'learning_rate': 0.07}\n",
    "\n",
    "Best: -0.151231 using {'max_depth': 5, 'n_estimators': 100, 'gamma': 0.6, 'learning_rate': 0.07, 'min_child_weight': 1, 'colsample_bytree': 0.8}\n",
    "\n",
    "Best: -0.149461 using {'max_depth': 6, 'n_estimators': 140, 'gamma': 0.5, 'learning_rate': 0.13, 'min_child_weight': 2, 'colsample_bytree': 0.8}"
   ]
  },
  {
   "cell_type": "code",
   "execution_count": 63,
   "metadata": {},
   "outputs": [],
   "source": [
    "xgb_up = XGBRegressor(\n",
    " learning_rate = 0.13,\n",
    " n_estimators= 140,\n",
    " max_depth= 6,\n",
    " min_child_weight= 2,\n",
    " #gamma=1,\n",
    " gamma=0.5,                        \n",
    " subsample=0.8,\n",
    " colsample_bytree=0.8,\n",
    " objective= 'binary:logistic',\n",
    " nthread= -1,\n",
    " scale_pos_weight=1).fit(x_train, y_train)"
   ]
  },
  {
   "cell_type": "code",
   "execution_count": null,
   "metadata": {},
   "outputs": [],
   "source": []
  },
  {
   "cell_type": "code",
   "execution_count": null,
   "metadata": {},
   "outputs": [],
   "source": []
  },
  {
   "cell_type": "code",
   "execution_count": 64,
   "metadata": {},
   "outputs": [],
   "source": [
    "predictions = xgb_up.predict(x_test)"
   ]
  },
  {
   "cell_type": "code",
   "execution_count": 65,
   "metadata": {},
   "outputs": [
    {
     "data": {
      "text/plain": [
       "[<matplotlib.lines.Line2D at 0x2039f23b400>]"
      ]
     },
     "execution_count": 65,
     "metadata": {},
     "output_type": "execute_result"
    },
    {
     "data": {
      "image/png": "[encoded data removed]",
      "text/plain": [
       "<Figure size 432x288 with 1 Axes>"
      ]
     },
     "metadata": {},
     "output_type": "display_data"
    }
   ],
   "source": [
    "plt.plot(predictions)"
   ]
  },
  {
   "cell_type": "markdown",
   "metadata": {},
   "source": [
    "### make submission"
   ]
  },
  {
   "cell_type": "code",
   "execution_count": 67,
   "metadata": {},
   "outputs": [],
   "source": [
    "data = np.array([np.arange(1, 913)]).T\n",
    "submission_df = pd.DataFrame(data, index=index, columns=columns)\n",
    "submission_df['prediction'] = predictions\n",
    "submission_df.rename(columns={'日期':'time'}, inplace=True)\n",
    "submission_df.to_csv('submission1.csv', index=False)"
   ]
  },
  {
   "cell_type": "code",
   "execution_count": null,
   "metadata": {},
   "outputs": [],
   "source": []
  },
  {
   "cell_type": "code",
   "execution_count": null,
   "metadata": {},
   "outputs": [],
   "source": []
  },
  {
   "cell_type": "code",
   "execution_count": null,
   "metadata": {},
   "outputs": [],
   "source": []
  },
  {
   "cell_type": "code",
   "execution_count": null,
   "metadata": {},
   "outputs": [],
   "source": [
    "#Machine Learning Algorithm (MLA) Selection and Initialization\n",
    "MLA = [\n",
    "    #Ensemble Methods\n",
    "    ensemble.AdaBoostClassifier(),\n",
    "    ensemble.BaggingClassifier(),\n",
    "    ensemble.ExtraTreesClassifier(),\n",
    "    ensemble.GradientBoostingClassifier(),\n",
    "    ensemble.RandomForestClassifier(),\n",
    "\n",
    "    #Gaussian Processes\n",
    "    gaussian_process.GaussianProcessClassifier(),\n",
    "    \n",
    "    #GLM\n",
    "    linear_model.LogisticRegressionCV(),\n",
    "    linear_model.PassiveAggressiveClassifier(),\n",
    "    linear_model.RidgeClassifierCV(),\n",
    "    linear_model.SGDClassifier(),\n",
    "    linear_model.Perceptron(),\n",
    "    \n",
    "    #Navies Bayes\n",
    "    naive_bayes.BernoulliNB(),\n",
    "    naive_bayes.GaussianNB(),\n",
    "    \n",
    "    #Nearest Neighbor\n",
    "    neighbors.KNeighborsClassifier(),\n",
    "    \n",
    "    #SVM\n",
    "    svm.SVC(probability=True),\n",
    "    svm.NuSVC(probability=True),\n",
    "    svm.LinearSVC(),\n",
    "    \n",
    "    #Trees    \n",
    "    tree.DecisionTreeClassifier(),\n",
    "    tree.ExtraTreeClassifier(),\n",
    "    \n",
    "    #Discriminant Analysis\n",
    "    discriminant_analysis.LinearDiscriminantAnalysis(),\n",
    "    discriminant_analysis.QuadraticDiscriminantAnalysis(),\n",
    "\n",
    "    \n",
    "    #xgboost: http://xgboost.readthedocs.io/en/latest/model.html\n",
    "    XGBClassifier()    \n",
    "    ]\n",
    "\n",
    "\n",
    "\n",
    "#split dataset in cross-validation with this splitter class: http://scikit-learn.org/stable/modules/generated/sklearn.model_selection.ShuffleSplit.html#sklearn.model_selection.ShuffleSplit\n",
    "#note: this is an alternative to train_test_split\n",
    "cv_split = model_selection.ShuffleSplit(n_splits = 10, test_size = .3, train_size = .6, random_state = 0 ) # run model 10x with 60/30 split intentionally leaving out 10%\n",
    "\n",
    "#create table to compare MLA metrics\n",
    "MLA_columns = ['MLA Name', 'MLA Parameters','MLA Train Accuracy Mean', 'MLA Test Accuracy Mean', 'MLA Test Accuracy 3*STD' ,'MLA Time']\n",
    "MLA_compare = pd.DataFrame(columns = MLA_columns)\n",
    "\n",
    "#create table to compare MLA predictions\n",
    "MLA_predict = data1[Target]\n",
    "\n",
    "#index through MLA and save performance to table\n",
    "row_index = 0\n",
    "for alg in MLA:\n",
    "\n",
    "    #set name and parameters\n",
    "    MLA_name = alg.__class__.__name__\n",
    "    MLA_compare.loc[row_index, 'MLA Name'] = MLA_name\n",
    "    MLA_compare.loc[row_index, 'MLA Parameters'] = str(alg.get_params())\n",
    "    \n",
    "    #score model with cross validation: http://scikit-learn.org/stable/modules/generated/sklearn.model_selection.cross_validate.html#sklearn.model_selection.cross_validate\n",
    "    cv_results = model_selection.cross_validate(alg, data1[data1_x_bin], data1[Target], cv  = cv_split)\n",
    "\n",
    "    MLA_compare.loc[row_index, 'MLA Time'] = cv_results['fit_time'].mean()\n",
    "    MLA_compare.loc[row_index, 'MLA Train Accuracy Mean'] = cv_results['train_score'].mean()\n",
    "    MLA_compare.loc[row_index, 'MLA Test Accuracy Mean'] = cv_results['test_score'].mean()   \n",
    "    #if this is a non-bias random sample, then +/-3 standard deviations (std) from the mean, should statistically capture 99.7% of the subsets\n",
    "    MLA_compare.loc[row_index, 'MLA Test Accuracy 3*STD'] = cv_results['test_score'].std()*3   #let's know the worst that can happen!\n",
    "    \n",
    "\n",
    "    #save MLA predictions - see section 6 for usage\n",
    "    alg.fit(data1[data1_x_bin], data1[Target])\n",
    "    MLA_predict[MLA_name] = alg.predict(data1[data1_x_bin])\n",
    "    \n",
    "    row_index+=1\n",
    "\n",
    "    \n",
    "#print and sort table: https://pandas.pydata.org/pandas-docs/stable/generated/pandas.DataFrame.sort_values.html\n",
    "MLA_compare.sort_values(by = ['MLA Test Accuracy Mean'], ascending = False, inplace = True)\n",
    "MLA_compare\n",
    "#MLA_predict"
   ]
  },
  {
   "cell_type": "code",
   "execution_count": null,
   "metadata": {},
   "outputs": [],
   "source": [
    "#barplot using https://seaborn.pydata.org/generated/seaborn.barplot.html\n",
    "sns.barplot(x='MLA Test Accuracy Mean', y = 'MLA Name', data = MLA_compare, color = 'm')\n",
    "\n",
    "#prettify using pyplot: https://matplotlib.org/api/pyplot_api.html\n",
    "plt.title('Machine Learning Algorithm Accuracy Score \\n')\n",
    "plt.xlabel('Accuracy Score (%)')\n",
    "plt.ylabel('Algorithm')"
   ]
  }
 ],
 "metadata": {
  "kernelspec": {
   "display_name": "python 3.5 tf gpu",
   "language": "python",
   "name": "tensorflow_gpu"
  },
  "language_info": {
   "codemirror_mode": {
    "name": "ipython",
    "version": 3
   },
   "file_extension": ".py",
   "mimetype": "text/x-python",
   "name": "python",
   "nbconvert_exporter": "python",
   "pygments_lexer": "ipython3",
   "version": "3.5.5"
  }
 },
 "nbformat": 4,
 "nbformat_minor": 2
}
