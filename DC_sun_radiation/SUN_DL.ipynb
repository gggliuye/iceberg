{
 "cells": [
  {
   "cell_type": "code",
   "execution_count": 58,
   "metadata": {},
   "outputs": [
    {
     "data": {
      "text/html": [
       "<script>requirejs.config({paths: { 'plotly': ['https://cdn.plot.ly/plotly-latest.min']},});if(!window.Plotly) {{require(['plotly'],function(plotly) {window.Plotly=plotly;});}}</script>"
      ],
      "text/vnd.plotly.v1+html": [
       "<script>requirejs.config({paths: { 'plotly': ['https://cdn.plot.ly/plotly-latest.min']},});if(!window.Plotly) {{require(['plotly'],function(plotly) {window.Plotly=plotly;});}}</script>"
      ]
     },
     "metadata": {},
     "output_type": "display_data"
    }
   ],
   "source": [
    "import numpy as np\n",
    "import pandas as pd\n",
    "import matplotlib.pyplot as plt\n",
    "from matplotlib import pyplot\n",
    "import seaborn as sns\n",
    "%matplotlib inline\n",
    "\n",
    "import plotly.offline as py\n",
    "py.init_notebook_mode(connected=True)\n",
    "import plotly.graph_objs as go\n",
    "import plotly.tools as tls\n",
    "\n",
    "import warnings\n",
    "warnings.filterwarnings('ignore')\n",
    "\n",
    "import keras\n",
    "from keras.models import Model, Sequential\n",
    "from keras.layers import Dense, Input\n",
    "from keras.wrappers.scikit_learn import KerasRegressor\n",
    "from sklearn.model_selection import cross_val_score\n",
    "from sklearn.model_selection import KFold\n",
    "from sklearn.preprocessing import StandardScaler\n",
    "from sklearn.pipeline import Pipeline\n",
    "\n",
    "from keras.callbacks import EarlyStopping, ModelCheckpoint, ReduceLROnPlateau\n",
    "from keras import backend as K"
   ]
  },
  {
   "cell_type": "markdown",
   "metadata": {},
   "source": [
    "## load data "
   ]
  },
  {
   "cell_type": "code",
   "execution_count": 2,
   "metadata": {},
   "outputs": [
    {
     "name": "stdout",
     "output_type": "stream",
     "text": [
      "(17008, 8) (2126, 2) (7320, 8)\n"
     ]
    }
   ],
   "source": [
    "train_feature_df = pd.read_csv('train_feature.csv', low_memory=False)\n",
    "train_label_df = pd.read_csv('train_label.csv', low_memory=False)\n",
    "test_feature_df = pd.read_csv('test_feature.csv', low_memory=False)\n",
    "print(train_feature_df.shape, train_label_df.shape, test_feature_df.shape)"
   ]
  },
  {
   "cell_type": "markdown",
   "metadata": {},
   "source": [
    "## 2.1 remake the data for each day\n",
    "should be 7*8+2=58 cols"
   ]
  },
  {
   "cell_type": "code",
   "execution_count": 3,
   "metadata": {},
   "outputs": [],
   "source": [
    "train_feature_df_list = []\n",
    "for i in [2,5,8,11,14,17,20,23]:\n",
    "    temp_df = train_feature_df[train_feature_df['时刻'] == i].add_suffix('_'+str(i))\n",
    "    temp_df.rename(columns={'日期_'+str(i):'日期'}, inplace=True)\n",
    "    train_feature_df_list.append(temp_df )"
   ]
  },
  {
   "cell_type": "code",
   "execution_count": 4,
   "metadata": {},
   "outputs": [],
   "source": [
    "for i in range(8):\n",
    "    train_label_df = train_label_df.merge(train_feature_df_list[i], left_on = '日期', right_on='日期', how='left', suffixes=('',''))"
   ]
  },
  {
   "cell_type": "markdown",
   "metadata": {},
   "source": [
    "## 3.1 normalize data"
   ]
  },
  {
   "cell_type": "code",
   "execution_count": 5,
   "metadata": {},
   "outputs": [],
   "source": [
    "fcol = [c for c in train_label_df.columns if c not in ['日期', '时刻_2', '时刻_5', '时刻_8', '时刻_11', '时刻_14',\n",
    "                                             '时刻_17', '时刻_20', '时刻_23','辐照度_2', '辐照度_5','辐照度_23', '电场实际太阳辐射指数']]\n",
    "\n",
    "X = train_label_df[fcol].values\n",
    "y = train_label_df['电场实际太阳辐射指数']"
   ]
  },
  {
   "cell_type": "code",
   "execution_count": 6,
   "metadata": {},
   "outputs": [],
   "source": [
    "# Scaling of X values\n",
    "mins = np.min(X, axis=0)\n",
    "maxs = np.max(X, axis=0)\n",
    "rng = maxs - mins\n",
    "X = 1 - ((maxs - X) / rng)"
   ]
  },
  {
   "cell_type": "markdown",
   "metadata": {},
   "source": [
    "# Test Dataset"
   ]
  },
  {
   "cell_type": "code",
   "execution_count": 7,
   "metadata": {},
   "outputs": [
    {
     "name": "stdout",
     "output_type": "stream",
     "text": [
      "dates in test dataset is :  912.0\n"
     ]
    }
   ],
   "source": [
    "test_feature_df = test_feature_df.iloc[0:7296]\n",
    "print('dates in test dataset is : ', test_feature_df.shape[0]/8)"
   ]
  },
  {
   "cell_type": "code",
   "execution_count": 8,
   "metadata": {},
   "outputs": [],
   "source": [
    "# initalize the test label\n",
    "index = np.arange(912)\n",
    "columns = ['日期']\n",
    "data = np.array([np.arange(1, 913)]).T\n",
    "test_label_df = pd.DataFrame(data, index=index, columns=columns)"
   ]
  },
  {
   "cell_type": "code",
   "execution_count": 9,
   "metadata": {},
   "outputs": [],
   "source": [
    "test_feature_df_list = []\n",
    "for i in [2,5,8,11,14,17,20,23]:\n",
    "    temp_df = test_feature_df[test_feature_df['时刻'] == i].add_suffix('_'+str(i))\n",
    "    temp_df.rename(columns={'日期_'+str(i):'日期'}, inplace=True)\n",
    "    test_feature_df_list.append(temp_df )\n",
    "    \n",
    "for i in range(8):\n",
    "    test_label_df = test_label_df.merge(test_feature_df_list[i], left_on = '日期', right_on='日期', how='left', suffixes=('',''))"
   ]
  },
  {
   "cell_type": "code",
   "execution_count": 10,
   "metadata": {},
   "outputs": [
    {
     "data": {
      "text/plain": [
       "(912, 45)"
      ]
     },
     "execution_count": 10,
     "metadata": {},
     "output_type": "execute_result"
    }
   ],
   "source": [
    "x_test = test_label_df[fcol].values\n",
    "x_test = 1 - ((maxs - x_test) / rng)\n",
    "x_test.shape"
   ]
  },
  {
   "cell_type": "markdown",
   "metadata": {},
   "source": [
    "# Neural network"
   ]
  },
  {
   "cell_type": "code",
   "execution_count": 38,
   "metadata": {},
   "outputs": [],
   "source": [
    "def baseline_model():\n",
    "    # create model\n",
    "    model = Sequential()\n",
    "    model.add(Dense(45, input_dim=45, kernel_initializer='normal', activation='relu'))\n",
    "    model.add(Dense(90, input_dim=45, kernel_initializer='normal', activation='relu'))\n",
    "    model.add(Dense(45, input_dim=90, kernel_initializer='normal', activation='relu'))\n",
    "    model.add(Dense(20, input_dim=45, kernel_initializer='normal', activation='relu'))\n",
    "    model.add(Dense(1, kernel_initializer='normal'))\n",
    "    # Compile model\n",
    "    model.compile(loss='mean_squared_error', optimizer='adam')\n",
    "    return model"
   ]
  },
  {
   "cell_type": "code",
   "execution_count": 81,
   "metadata": {},
   "outputs": [],
   "source": [
    "estimator = KerasRegressor(build_fn=baseline_model, epochs=100, batch_size=5, verbose=1)"
   ]
  },
  {
   "cell_type": "code",
   "execution_count": 39,
   "metadata": {},
   "outputs": [],
   "source": [
    "\"\"\"\n",
    "# evaluate model with standardized dataset\n",
    "seed = 7\n",
    "numpy.random.seed(seed)\n",
    "estimators = []\n",
    "estimators.append(('standardize', StandardScaler()))\n",
    "estimators.append(('mlp', KerasRegressor(build_fn=baseline_model, epochs=50, batch_size=5, verbose=1)))\n",
    "pipeline = Pipeline(estimators)\n",
    "kfold = KFold(n_splits=5, random_state=seed)\n",
    "results = cross_val_score(pipeline, X, y, cv=kfold)\n",
    "print(\"Standardized: %.2f (%.2f) MSE\" % (results.mean(), results.std()))\n",
    "\"\"\""
   ]
  },
  {
   "cell_type": "code",
   "execution_count": 82,
   "metadata": {
    "scrolled": true
   },
   "outputs": [
    {
     "name": "stdout",
     "output_type": "stream",
     "text": [
      "Epoch 1/100\n",
      "2126/2126 [==============================] - 4s 2ms/step - loss: 0.0697\n",
      "Epoch 2/100\n",
      "2126/2126 [==============================] - 2s 1ms/step - loss: 0.0546\n",
      "Epoch 3/100\n",
      "2126/2126 [==============================] - 2s 1ms/step - loss: 0.0536\n",
      "Epoch 4/100\n",
      "2126/2126 [==============================] - 3s 1ms/step - loss: 0.0524\n",
      "Epoch 5/100\n",
      "2126/2126 [==============================] - 3s 1ms/step - loss: 0.0520\n",
      "Epoch 6/100\n",
      "2126/2126 [==============================] - 3s 1ms/step - loss: 0.0515\n",
      "Epoch 7/100\n",
      "2126/2126 [==============================] - 2s 1ms/step - loss: 0.0510\n",
      "Epoch 8/100\n",
      "2126/2126 [==============================] - 3s 1ms/step - loss: 0.0512\n",
      "Epoch 9/100\n",
      "2126/2126 [==============================] - 3s 1ms/step - loss: 0.0512\n",
      "Epoch 10/100\n",
      "2126/2126 [==============================] - 3s 1ms/step - loss: 0.0513\n",
      "Epoch 11/100\n",
      "2126/2126 [==============================] - 3s 1ms/step - loss: 0.0507\n",
      "Epoch 12/100\n",
      "2126/2126 [==============================] - 3s 1ms/step - loss: 0.0499\n",
      "Epoch 13/100\n",
      "2126/2126 [==============================] - 3s 1ms/step - loss: 0.0508\n",
      "Epoch 14/100\n",
      "2126/2126 [==============================] - 3s 1ms/step - loss: 0.0502\n",
      "Epoch 15/100\n",
      "2126/2126 [==============================] - 3s 1ms/step - loss: 0.0492\n",
      "Epoch 16/100\n",
      "2126/2126 [==============================] - 3s 1ms/step - loss: 0.0505\n",
      "Epoch 17/100\n",
      "2126/2126 [==============================] - 3s 1ms/step - loss: 0.0499\n",
      "Epoch 18/100\n",
      "2126/2126 [==============================] - 3s 1ms/step - loss: 0.0494\n",
      "Epoch 19/100\n",
      "2126/2126 [==============================] - 3s 1ms/step - loss: 0.0496\n",
      "Epoch 20/100\n",
      "2126/2126 [==============================] - 3s 1ms/step - loss: 0.0500\n",
      "Epoch 21/100\n",
      "2126/2126 [==============================] - 3s 1ms/step - loss: 0.0496\n",
      "Epoch 22/100\n",
      "2126/2126 [==============================] - 3s 1ms/step - loss: 0.0493\n",
      "Epoch 23/100\n",
      "2126/2126 [==============================] - 3s 1ms/step - loss: 0.0498\n",
      "Epoch 24/100\n",
      "2126/2126 [==============================] - 3s 1ms/step - loss: 0.0491\n",
      "Epoch 25/100\n",
      "2126/2126 [==============================] - 3s 1ms/step - loss: 0.0488\n",
      "Epoch 26/100\n",
      "2126/2126 [==============================] - 3s 1ms/step - loss: 0.0487\n",
      "Epoch 27/100\n",
      "2126/2126 [==============================] - 3s 1ms/step - loss: 0.0488\n",
      "Epoch 28/100\n",
      "2126/2126 [==============================] - 3s 1ms/step - loss: 0.0480\n",
      "Epoch 29/100\n",
      "2126/2126 [==============================] - 3s 1ms/step - loss: 0.0483\n",
      "Epoch 30/100\n",
      "2126/2126 [==============================] - 2s 1ms/step - loss: 0.0480\n",
      "Epoch 31/100\n",
      "2126/2126 [==============================] - 3s 1ms/step - loss: 0.0484\n",
      "Epoch 32/100\n",
      "2126/2126 [==============================] - 3s 1ms/step - loss: 0.0477\n",
      "Epoch 33/100\n",
      "2126/2126 [==============================] - 3s 1ms/step - loss: 0.0477\n",
      "Epoch 34/100\n",
      "2126/2126 [==============================] - 3s 1ms/step - loss: 0.0475\n",
      "Epoch 35/100\n",
      "2126/2126 [==============================] - 3s 1ms/step - loss: 0.0480\n",
      "Epoch 36/100\n",
      "2126/2126 [==============================] - 3s 1ms/step - loss: 0.0477\n",
      "Epoch 37/100\n",
      "2126/2126 [==============================] - 3s 1ms/step - loss: 0.0471\n",
      "Epoch 38/100\n",
      "2126/2126 [==============================] - 3s 1ms/step - loss: 0.0477\n",
      "Epoch 39/100\n",
      "2126/2126 [==============================] - 3s 1ms/step - loss: 0.0471\n",
      "Epoch 40/100\n",
      "2126/2126 [==============================] - 3s 1ms/step - loss: 0.0468\n",
      "Epoch 41/100\n",
      "2126/2126 [==============================] - 3s 1ms/step - loss: 0.0473\n",
      "Epoch 42/100\n",
      "2126/2126 [==============================] - 3s 1ms/step - loss: 0.0468\n",
      "Epoch 43/100\n",
      "2126/2126 [==============================] - 3s 1ms/step - loss: 0.0469\n",
      "Epoch 44/100\n",
      "2126/2126 [==============================] - 3s 1ms/step - loss: 0.0464\n",
      "Epoch 45/100\n",
      "2126/2126 [==============================] - 3s 1ms/step - loss: 0.0474\n",
      "Epoch 46/100\n",
      "2126/2126 [==============================] - 3s 1ms/step - loss: 0.0463\n",
      "Epoch 47/100\n",
      "2126/2126 [==============================] - 3s 1ms/step - loss: 0.0462\n",
      "Epoch 48/100\n",
      "2126/2126 [==============================] - 3s 1ms/step - loss: 0.0464\n",
      "Epoch 49/100\n",
      "2126/2126 [==============================] - 3s 1ms/step - loss: 0.0464\n",
      "Epoch 50/100\n",
      "2126/2126 [==============================] - 3s 1ms/step - loss: 0.0464\n",
      "Epoch 51/100\n",
      "2126/2126 [==============================] - 3s 1ms/step - loss: 0.0459\n",
      "Epoch 52/100\n",
      "2126/2126 [==============================] - 3s 1ms/step - loss: 0.0459\n",
      "Epoch 53/100\n",
      "2126/2126 [==============================] - 3s 1ms/step - loss: 0.0456\n",
      "Epoch 54/100\n",
      "2126/2126 [==============================] - 3s 1ms/step - loss: 0.0455\n",
      "Epoch 55/100\n",
      "2126/2126 [==============================] - 3s 1ms/step - loss: 0.0451\n",
      "Epoch 56/100\n",
      "2126/2126 [==============================] - 3s 1ms/step - loss: 0.0453\n",
      "Epoch 57/100\n",
      "2126/2126 [==============================] - 2s 1ms/step - loss: 0.0452\n",
      "Epoch 58/100\n",
      "2126/2126 [==============================] - 3s 1ms/step - loss: 0.0452\n",
      "Epoch 59/100\n",
      "2126/2126 [==============================] - 3s 1ms/step - loss: 0.0454\n",
      "Epoch 60/100\n",
      "2126/2126 [==============================] - 3s 1ms/step - loss: 0.0451\n",
      "Epoch 61/100\n",
      "2126/2126 [==============================] - 3s 1ms/step - loss: 0.0450\n",
      "Epoch 62/100\n",
      "2126/2126 [==============================] - 3s 1ms/step - loss: 0.0450\n",
      "Epoch 63/100\n",
      "2126/2126 [==============================] - 3s 1ms/step - loss: 0.0447\n",
      "Epoch 64/100\n",
      "2126/2126 [==============================] - 3s 1ms/step - loss: 0.0450\n",
      "Epoch 65/100\n",
      "2126/2126 [==============================] - 3s 1ms/step - loss: 0.0448\n",
      "Epoch 66/100\n",
      "2126/2126 [==============================] - 3s 1ms/step - loss: 0.0450\n",
      "Epoch 67/100\n",
      "2126/2126 [==============================] - 3s 1ms/step - loss: 0.0442\n",
      "Epoch 68/100\n",
      "2126/2126 [==============================] - 3s 1ms/step - loss: 0.0449\n",
      "Epoch 69/100\n",
      "2126/2126 [==============================] - 3s 1ms/step - loss: 0.0445\n",
      "Epoch 70/100\n",
      "2126/2126 [==============================] - 3s 1ms/step - loss: 0.0444\n",
      "Epoch 71/100\n",
      "2126/2126 [==============================] - 3s 1ms/step - loss: 0.0444\n",
      "Epoch 72/100\n",
      "2126/2126 [==============================] - 3s 1ms/step - loss: 0.0445\n",
      "Epoch 73/100\n",
      "2126/2126 [==============================] - 3s 1ms/step - loss: 0.0441\n",
      "Epoch 74/100\n",
      "2126/2126 [==============================] - 3s 1ms/step - loss: 0.0441\n",
      "Epoch 75/100\n",
      "2126/2126 [==============================] - 3s 1ms/step - loss: 0.0438\n",
      "Epoch 76/100\n",
      "2126/2126 [==============================] - 3s 1ms/step - loss: 0.0434\n",
      "Epoch 77/100\n",
      "2126/2126 [==============================] - 3s 1ms/step - loss: 0.0441\n",
      "Epoch 78/100\n",
      "2126/2126 [==============================] - 3s 1ms/step - loss: 0.0442\n",
      "Epoch 79/100\n",
      "2126/2126 [==============================] - 3s 1ms/step - loss: 0.0434\n",
      "Epoch 80/100\n",
      "2126/2126 [==============================] - 3s 1ms/step - loss: 0.0434\n",
      "Epoch 81/100\n",
      "2126/2126 [==============================] - 3s 1ms/step - loss: 0.0432\n",
      "Epoch 82/100\n",
      "2126/2126 [==============================] - 3s 1ms/step - loss: 0.0431\n",
      "Epoch 83/100\n",
      "2126/2126 [==============================] - 3s 1ms/step - loss: 0.0434\n",
      "Epoch 84/100\n",
      "2126/2126 [==============================] - 3s 1ms/step - loss: 0.0434\n",
      "Epoch 85/100\n",
      "2126/2126 [==============================] - 3s 1ms/step - loss: 0.0427\n",
      "Epoch 86/100\n",
      "2126/2126 [==============================] - 3s 1ms/step - loss: 0.0430\n",
      "Epoch 87/100\n",
      "2126/2126 [==============================] - 3s 1ms/step - loss: 0.0429\n",
      "Epoch 88/100\n",
      "2126/2126 [==============================] - 3s 1ms/step - loss: 0.0428\n",
      "Epoch 89/100\n",
      "2126/2126 [==============================] - 3s 1ms/step - loss: 0.0429\n",
      "Epoch 90/100\n",
      "2126/2126 [==============================] - 3s 1ms/step - loss: 0.0433\n",
      "Epoch 91/100\n",
      "2126/2126 [==============================] - 3s 1ms/step - loss: 0.0431\n",
      "Epoch 92/100\n",
      "2126/2126 [==============================] - 3s 1ms/step - loss: 0.0425\n",
      "Epoch 93/100\n",
      "2126/2126 [==============================] - 3s 1ms/step - loss: 0.0425\n",
      "Epoch 94/100\n",
      "2126/2126 [==============================] - 3s 1ms/step - loss: 0.0422\n",
      "Epoch 95/100\n",
      "2126/2126 [==============================] - 3s 1ms/step - loss: 0.0428\n",
      "Epoch 96/100\n",
      "2126/2126 [==============================] - 3s 1ms/step - loss: 0.0427\n",
      "Epoch 97/100\n"
     ]
    },
    {
     "name": "stdout",
     "output_type": "stream",
     "text": [
      "2126/2126 [==============================] - 2s 1ms/step - loss: 0.0424\n",
      "Epoch 98/100\n",
      "2126/2126 [==============================] - 2s 1ms/step - loss: 0.0420\n",
      "Epoch 99/100\n",
      "2126/2126 [==============================] - 2s 1ms/step - loss: 0.0424\n",
      "Epoch 100/100\n",
      "2126/2126 [==============================] - 2s 1ms/step - loss: 0.0419\n"
     ]
    },
    {
     "data": {
      "text/plain": [
       "<keras.callbacks.History at 0x19fa31777b8>"
      ]
     },
     "execution_count": 82,
     "metadata": {},
     "output_type": "execute_result"
    }
   ],
   "source": [
    "estimator.fit(X,y)"
   ]
  },
  {
   "cell_type": "code",
   "execution_count": 83,
   "metadata": {},
   "outputs": [
    {
     "name": "stdout",
     "output_type": "stream",
     "text": [
      "912/912 [==============================] - 1s 593us/step\n"
     ]
    }
   ],
   "source": [
    "predict = estimator.predict(x_test)"
   ]
  },
  {
   "cell_type": "code",
   "execution_count": 84,
   "metadata": {
    "scrolled": true
   },
   "outputs": [],
   "source": [
    "predict[predict>1] = 1"
   ]
  },
  {
   "cell_type": "code",
   "execution_count": 85,
   "metadata": {},
   "outputs": [
    {
     "data": {
      "text/plain": [
       "[<matplotlib.lines.Line2D at 0x19fa2879358>]"
      ]
     },
     "execution_count": 85,
     "metadata": {},
     "output_type": "execute_result"
    },
    {
     "data": {
      "image/png": "[encoded data removed]",
      "text/plain": [
       "<Figure size 432x288 with 1 Axes>"
      ]
     },
     "metadata": {},
     "output_type": "display_data"
    }
   ],
   "source": [
    "plt.plot(predict)"
   ]
  },
  {
   "cell_type": "markdown",
   "metadata": {},
   "source": [
    "# Model"
   ]
  },
  {
   "cell_type": "code",
   "execution_count": 50,
   "metadata": {},
   "outputs": [],
   "source": [
    "num_feature = 45"
   ]
  },
  {
   "cell_type": "code",
   "execution_count": 56,
   "metadata": {},
   "outputs": [
    {
     "name": "stdout",
     "output_type": "stream",
     "text": [
      "_________________________________________________________________\n",
      "Layer (type)                 Output Shape              Param #   \n",
      "=================================================================\n",
      "sun_features (InputLayer)    (None, 45)                0         \n",
      "_________________________________________________________________\n",
      "dense_49 (Dense)             (None, 80)                3680      \n",
      "_________________________________________________________________\n",
      "dense_50 (Dense)             (None, 45)                3645      \n",
      "_________________________________________________________________\n",
      "dense_51 (Dense)             (None, 1)                 46        \n",
      "=================================================================\n",
      "Total params: 7,371\n",
      "Trainable params: 7,371\n",
      "Non-trainable params: 0\n",
      "_________________________________________________________________\n"
     ]
    }
   ],
   "source": [
    "# Build U-Net model\n",
    "input_sun = Input((num_feature, ), name='sun_features')\n",
    "\n",
    "dense = Dense(80, kernel_initializer='normal', activation='relu') (input_sun)\n",
    "dense = Dense(45, kernel_initializer='normal', activation='relu') (dense)\n",
    "\n",
    "outputs = Dense(1, kernel_initializer='normal', activation='relu') (dense)\n",
    "\n",
    "model = Model(inputs=[input_sun], outputs=[outputs])\n",
    "#model.compile(optimizer='adam', loss='binary_crossentropy') \n",
    "model.compile(optimizer='adam', loss='binary_crossentropy')\n",
    "# The mean_iou metrics seens to leak train and test values...\n",
    "# A metric is a function that is used to judge the performance of your model. \n",
    "# the results from evaluating a metric are not used when training the model.\n",
    "model.summary()"
   ]
  },
  {
   "cell_type": "code",
   "execution_count": null,
   "metadata": {},
   "outputs": [],
   "source": [
    "preds_train = model.predict({'img': X_train, 'feat': X_feat_train}, verbose=1)"
   ]
  },
  {
   "cell_type": "markdown",
   "metadata": {},
   "source": [
    "# Results\n",
    "### 2019/10/29 1\n",
    "- two layers 45->1\n",
    "- score 0.21"
   ]
  },
  {
   "cell_type": "code",
   "execution_count": null,
   "metadata": {},
   "outputs": [],
   "source": []
  },
  {
   "cell_type": "code",
   "execution_count": null,
   "metadata": {},
   "outputs": [],
   "source": []
  },
  {
   "cell_type": "markdown",
   "metadata": {},
   "source": [
    "### make submission"
   ]
  },
  {
   "cell_type": "code",
   "execution_count": 86,
   "metadata": {},
   "outputs": [],
   "source": [
    "data = np.array([np.arange(1, 913)]).T\n",
    "submission_df = pd.DataFrame(data, index=index, columns=columns)\n",
    "submission_df['prediction'] = predict\n",
    "submission_df.rename(columns={'日期':'time'}, inplace=True)\n",
    "submission_df.to_csv('submission.csv', index=False)"
   ]
  }
 ],
 "metadata": {
  "kernelspec": {
   "display_name": "python 3.5 tf gpu",
   "language": "python",
   "name": "tensorflow_gpu"
  },
  "language_info": {
   "codemirror_mode": {
    "name": "ipython",
    "version": 3
   },
   "file_extension": ".py",
   "mimetype": "text/x-python",
   "name": "python",
   "nbconvert_exporter": "python",
   "pygments_lexer": "ipython3",
   "version": "3.5.5"
  }
 },
 "nbformat": 4,
 "nbformat_minor": 2
}
