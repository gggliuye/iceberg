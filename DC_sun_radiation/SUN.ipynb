{
 "cells": [
  {
   "cell_type": "code",
   "execution_count": 1,
   "metadata": {},
   "outputs": [
    {
     "data": {
      "text/html": [
       "<script>requirejs.config({paths: { 'plotly': ['https://cdn.plot.ly/plotly-latest.min']},});if(!window.Plotly) {{require(['plotly'],function(plotly) {window.Plotly=plotly;});}}</script>"
      ],
      "text/vnd.plotly.v1+html": [
       "<script>requirejs.config({paths: { 'plotly': ['https://cdn.plot.ly/plotly-latest.min']},});if(!window.Plotly) {{require(['plotly'],function(plotly) {window.Plotly=plotly;});}}</script>"
      ]
     },
     "metadata": {},
     "output_type": "display_data"
    }
   ],
   "source": [
    "import numpy as np\n",
    "import pandas as pd\n",
    "import matplotlib.pyplot as plt\n",
    "from matplotlib import pyplot\n",
    "import seaborn as sns\n",
    "%matplotlib inline\n",
    "\n",
    "import plotly.offline as py\n",
    "py.init_notebook_mode(connected=True)\n",
    "import plotly.graph_objs as go\n",
    "import plotly.tools as tls\n",
    "\n",
    "import xgboost\n",
    "from xgboost import XGBClassifier\n",
    "from xgboost import XGBRegressor\n",
    "from sklearn.model_selection import GridSearchCV\n",
    "from sklearn.model_selection import StratifiedKFold, KFold\n",
    "from sklearn.preprocessing import LabelEncoder\n",
    "from sklearn.metrics import accuracy_score\n",
    "\n",
    "import progressbar\n",
    "import warnings\n",
    "warnings.filterwarnings('ignore')"
   ]
  },
  {
   "cell_type": "markdown",
   "metadata": {},
   "source": [
    "# 1.0 Introduction\n",
    "竞赛背景\n",
    "\n",
    "太阳能被看作是最具有代表性的新能源，而其中太阳辐射是影响太阳能发电量的最主要因素。由于收到包括地理位置、太阳高度角、方位角、时角等时空要素，云量、云态、大气状态等气象要素的影响，太阳辐射预测一直是光伏发电量预测的关键。通过数值天气预报系统，可以通过对中尺度系统的模拟得到较为精细的辐射预报数据，然而预测信息中仍然存在冗余信息，单独使用辐射数据并不能精确地预报实际太阳辐射。\n",
    "\n",
    "\n",
    "\n",
    "主办方简介：\n",
    "\n",
    "  北京国能日新系统控制技术有限公司（简称：国能日新）是一家专业提供新能源软件产品及服务的高新技术企业，其拥有多项专业资质，具备自主研发、生产制造和全方位营销等综合能力，专注于为新能源企业在并网自动化、生产运营、企业信息化等方面提供优质的解决方案。通过专业的技术产品及全面的服务体系为新能源企业的更优发展提供技术保障。\n",
    "  \n",
    "### Mission\n",
    "通过学习一段时间内的环境数据和对应的实际太阳辐指数，训练模型，通过给定某时间点预测的环境数据，预测该时间点的实际太阳辐射指数。\n",
    " \n",
    "### Evalutaion\n",
    "<img src=\"img/eval.png\",width=270,height=60>\n",
    "其中，n为样本数量， Pmi为实际太阳辐射指数；Ppi为预测太阳辐射指数。 "
   ]
  },
  {
   "cell_type": "markdown",
   "metadata": {},
   "source": [
    "# 2.0 Data\n",
    "- train_feature.csv 训练集特征数据，每个时刻1个数据，每天8个时刻。共17008。\n",
    "- train_label.csv 训练集标签数据，每天1个数据，共2126个数据。\n",
    "- test_feature.csv 测试集特征数据，每个时刻1个数据，每天8个时刻，共7320条数据，字段与训练集特征数据相同。"
   ]
  },
  {
   "cell_type": "code",
   "execution_count": 2,
   "metadata": {},
   "outputs": [
    {
     "name": "stdout",
     "output_type": "stream",
     "text": [
      "(17008, 8) (2126, 2) (7320, 8)\n"
     ]
    }
   ],
   "source": [
    "train_feature_df = pd.read_csv('train_feature.csv', low_memory=False)\n",
    "train_label_df = pd.read_csv('train_label.csv', low_memory=False)\n",
    "test_feature_df = pd.read_csv('test_feature.csv', low_memory=False)\n",
    "print(train_feature_df.shape, train_label_df.shape, test_feature_df.shape)"
   ]
  },
  {
   "cell_type": "code",
   "execution_count": 7,
   "metadata": {},
   "outputs": [
    {
     "data": {
      "text/html": [
       "<div>\n",
       "<style scoped>\n",
       "    .dataframe tbody tr th:only-of-type {\n",
       "        vertical-align: middle;\n",
       "    }\n",
       "\n",
       "    .dataframe tbody tr th {\n",
       "        vertical-align: top;\n",
       "    }\n",
       "\n",
       "    .dataframe thead th {\n",
       "        text-align: right;\n",
       "    }\n",
       "</style>\n",
       "<table border=\"1\" class=\"dataframe\">\n",
       "  <thead>\n",
       "    <tr style=\"text-align: right;\">\n",
       "      <th></th>\n",
       "      <th>日期</th>\n",
       "      <th>时刻</th>\n",
       "      <th>辐照度</th>\n",
       "      <th>风速</th>\n",
       "      <th>风向</th>\n",
       "      <th>温度</th>\n",
       "      <th>湿度</th>\n",
       "      <th>气压</th>\n",
       "    </tr>\n",
       "  </thead>\n",
       "  <tbody>\n",
       "    <tr>\n",
       "      <th>8</th>\n",
       "      <td>2</td>\n",
       "      <td>2</td>\n",
       "      <td>0</td>\n",
       "      <td>1.1</td>\n",
       "      <td>45</td>\n",
       "      <td>-5.2</td>\n",
       "      <td>46</td>\n",
       "      <td>69800</td>\n",
       "    </tr>\n",
       "    <tr>\n",
       "      <th>9</th>\n",
       "      <td>2</td>\n",
       "      <td>5</td>\n",
       "      <td>0</td>\n",
       "      <td>1.2</td>\n",
       "      <td>114</td>\n",
       "      <td>-5.8</td>\n",
       "      <td>52</td>\n",
       "      <td>69600</td>\n",
       "    </tr>\n",
       "    <tr>\n",
       "      <th>10</th>\n",
       "      <td>2</td>\n",
       "      <td>8</td>\n",
       "      <td>0</td>\n",
       "      <td>0.2</td>\n",
       "      <td>297</td>\n",
       "      <td>-8.9</td>\n",
       "      <td>59</td>\n",
       "      <td>69700</td>\n",
       "    </tr>\n",
       "    <tr>\n",
       "      <th>11</th>\n",
       "      <td>2</td>\n",
       "      <td>11</td>\n",
       "      <td>328</td>\n",
       "      <td>0.8</td>\n",
       "      <td>277</td>\n",
       "      <td>-3.9</td>\n",
       "      <td>41</td>\n",
       "      <td>69700</td>\n",
       "    </tr>\n",
       "    <tr>\n",
       "      <th>12</th>\n",
       "      <td>2</td>\n",
       "      <td>14</td>\n",
       "      <td>543</td>\n",
       "      <td>1.2</td>\n",
       "      <td>90</td>\n",
       "      <td>0.1</td>\n",
       "      <td>32</td>\n",
       "      <td>69400</td>\n",
       "    </tr>\n",
       "    <tr>\n",
       "      <th>13</th>\n",
       "      <td>2</td>\n",
       "      <td>17</td>\n",
       "      <td>198</td>\n",
       "      <td>1.4</td>\n",
       "      <td>69</td>\n",
       "      <td>1.2</td>\n",
       "      <td>30</td>\n",
       "      <td>69200</td>\n",
       "    </tr>\n",
       "    <tr>\n",
       "      <th>14</th>\n",
       "      <td>2</td>\n",
       "      <td>20</td>\n",
       "      <td>0</td>\n",
       "      <td>1.0</td>\n",
       "      <td>294</td>\n",
       "      <td>-3.8</td>\n",
       "      <td>45</td>\n",
       "      <td>69400</td>\n",
       "    </tr>\n",
       "    <tr>\n",
       "      <th>15</th>\n",
       "      <td>2</td>\n",
       "      <td>23</td>\n",
       "      <td>0</td>\n",
       "      <td>2.5</td>\n",
       "      <td>297</td>\n",
       "      <td>-5.4</td>\n",
       "      <td>48</td>\n",
       "      <td>69500</td>\n",
       "    </tr>\n",
       "  </tbody>\n",
       "</table>\n",
       "</div>"
      ],
      "text/plain": [
       "    日期  时刻  辐照度   风速   风向   温度  湿度     气压\n",
       "8    2   2    0  1.1   45 -5.2  46  69800\n",
       "9    2   5    0  1.2  114 -5.8  52  69600\n",
       "10   2   8    0  0.2  297 -8.9  59  69700\n",
       "11   2  11  328  0.8  277 -3.9  41  69700\n",
       "12   2  14  543  1.2   90  0.1  32  69400\n",
       "13   2  17  198  1.4   69  1.2  30  69200\n",
       "14   2  20    0  1.0  294 -3.8  45  69400\n",
       "15   2  23    0  2.5  297 -5.4  48  69500"
      ]
     },
     "execution_count": 7,
     "metadata": {},
     "output_type": "execute_result"
    }
   ],
   "source": [
    "train_feature_df[8:16]"
   ]
  },
  {
   "cell_type": "code",
   "execution_count": null,
   "metadata": {},
   "outputs": [],
   "source": []
  },
  {
   "cell_type": "code",
   "execution_count": null,
   "metadata": {},
   "outputs": [],
   "source": []
  },
  {
   "cell_type": "code",
   "execution_count": null,
   "metadata": {},
   "outputs": [],
   "source": []
  },
  {
   "cell_type": "code",
   "execution_count": null,
   "metadata": {},
   "outputs": [],
   "source": []
  },
  {
   "cell_type": "markdown",
   "metadata": {},
   "source": [
    "## 2.1 remake the data for each day\n",
    "should be 7*8+2=58 cols"
   ]
  },
  {
   "cell_type": "code",
   "execution_count": 3,
   "metadata": {},
   "outputs": [],
   "source": [
    "train_feature_df_list = []\n",
    "for i in [2,5,8,11,14,17,20,23]:\n",
    "    temp_df = train_feature_df[train_feature_df['时刻'] == i].add_suffix('_'+str(i))\n",
    "    temp_df.rename(columns={'日期_'+str(i):'日期'}, inplace=True)\n",
    "    train_feature_df_list.append(temp_df )"
   ]
  },
  {
   "cell_type": "code",
   "execution_count": 4,
   "metadata": {},
   "outputs": [
    {
     "data": {
      "text/html": [
       "<div>\n",
       "<style scoped>\n",
       "    .dataframe tbody tr th:only-of-type {\n",
       "        vertical-align: middle;\n",
       "    }\n",
       "\n",
       "    .dataframe tbody tr th {\n",
       "        vertical-align: top;\n",
       "    }\n",
       "\n",
       "    .dataframe thead th {\n",
       "        text-align: right;\n",
       "    }\n",
       "</style>\n",
       "<table border=\"1\" class=\"dataframe\">\n",
       "  <thead>\n",
       "    <tr style=\"text-align: right;\">\n",
       "      <th></th>\n",
       "      <th>日期</th>\n",
       "      <th>电场实际太阳辐射指数</th>\n",
       "      <th>时刻_2</th>\n",
       "      <th>辐照度_2</th>\n",
       "      <th>风速_2</th>\n",
       "      <th>风向_2</th>\n",
       "      <th>温度_2</th>\n",
       "      <th>湿度_2</th>\n",
       "      <th>气压_2</th>\n",
       "      <th>时刻_5</th>\n",
       "      <th>...</th>\n",
       "      <th>温度_20</th>\n",
       "      <th>湿度_20</th>\n",
       "      <th>气压_20</th>\n",
       "      <th>时刻_23</th>\n",
       "      <th>辐照度_23</th>\n",
       "      <th>风速_23</th>\n",
       "      <th>风向_23</th>\n",
       "      <th>温度_23</th>\n",
       "      <th>湿度_23</th>\n",
       "      <th>气压_23</th>\n",
       "    </tr>\n",
       "  </thead>\n",
       "  <tbody>\n",
       "    <tr>\n",
       "      <th>0</th>\n",
       "      <td>1</td>\n",
       "      <td>0.108799</td>\n",
       "      <td>2</td>\n",
       "      <td>0</td>\n",
       "      <td>2.1</td>\n",
       "      <td>343</td>\n",
       "      <td>-7.2</td>\n",
       "      <td>51</td>\n",
       "      <td>69800</td>\n",
       "      <td>5</td>\n",
       "      <td>...</td>\n",
       "      <td>-3.5</td>\n",
       "      <td>40</td>\n",
       "      <td>69700</td>\n",
       "      <td>23</td>\n",
       "      <td>0</td>\n",
       "      <td>0.8</td>\n",
       "      <td>14</td>\n",
       "      <td>-4.8</td>\n",
       "      <td>42</td>\n",
       "      <td>69700</td>\n",
       "    </tr>\n",
       "    <tr>\n",
       "      <th>1</th>\n",
       "      <td>2</td>\n",
       "      <td>0.130559</td>\n",
       "      <td>2</td>\n",
       "      <td>0</td>\n",
       "      <td>1.1</td>\n",
       "      <td>45</td>\n",
       "      <td>-5.2</td>\n",
       "      <td>46</td>\n",
       "      <td>69800</td>\n",
       "      <td>5</td>\n",
       "      <td>...</td>\n",
       "      <td>-3.8</td>\n",
       "      <td>45</td>\n",
       "      <td>69400</td>\n",
       "      <td>23</td>\n",
       "      <td>0</td>\n",
       "      <td>2.5</td>\n",
       "      <td>297</td>\n",
       "      <td>-5.4</td>\n",
       "      <td>48</td>\n",
       "      <td>69500</td>\n",
       "    </tr>\n",
       "    <tr>\n",
       "      <th>2</th>\n",
       "      <td>3</td>\n",
       "      <td>0.114239</td>\n",
       "      <td>2</td>\n",
       "      <td>0</td>\n",
       "      <td>2.9</td>\n",
       "      <td>278</td>\n",
       "      <td>-7.4</td>\n",
       "      <td>58</td>\n",
       "      <td>69500</td>\n",
       "      <td>5</td>\n",
       "      <td>...</td>\n",
       "      <td>-3.8</td>\n",
       "      <td>30</td>\n",
       "      <td>69500</td>\n",
       "      <td>23</td>\n",
       "      <td>0</td>\n",
       "      <td>0.8</td>\n",
       "      <td>140</td>\n",
       "      <td>-3.8</td>\n",
       "      <td>29</td>\n",
       "      <td>69500</td>\n",
       "    </tr>\n",
       "    <tr>\n",
       "      <th>3</th>\n",
       "      <td>4</td>\n",
       "      <td>0.081599</td>\n",
       "      <td>2</td>\n",
       "      <td>0</td>\n",
       "      <td>0.3</td>\n",
       "      <td>90</td>\n",
       "      <td>-6.1</td>\n",
       "      <td>38</td>\n",
       "      <td>69500</td>\n",
       "      <td>5</td>\n",
       "      <td>...</td>\n",
       "      <td>-3.0</td>\n",
       "      <td>21</td>\n",
       "      <td>69100</td>\n",
       "      <td>23</td>\n",
       "      <td>0</td>\n",
       "      <td>0.8</td>\n",
       "      <td>270</td>\n",
       "      <td>-6.3</td>\n",
       "      <td>26</td>\n",
       "      <td>69200</td>\n",
       "    </tr>\n",
       "    <tr>\n",
       "      <th>4</th>\n",
       "      <td>5</td>\n",
       "      <td>0.212158</td>\n",
       "      <td>2</td>\n",
       "      <td>0</td>\n",
       "      <td>1.4</td>\n",
       "      <td>231</td>\n",
       "      <td>-9.9</td>\n",
       "      <td>33</td>\n",
       "      <td>69100</td>\n",
       "      <td>5</td>\n",
       "      <td>...</td>\n",
       "      <td>-6.1</td>\n",
       "      <td>26</td>\n",
       "      <td>69200</td>\n",
       "      <td>23</td>\n",
       "      <td>0</td>\n",
       "      <td>1.1</td>\n",
       "      <td>63</td>\n",
       "      <td>-7.5</td>\n",
       "      <td>28</td>\n",
       "      <td>69300</td>\n",
       "    </tr>\n",
       "  </tbody>\n",
       "</table>\n",
       "<p>5 rows × 58 columns</p>\n",
       "</div>"
      ],
      "text/plain": [
       "   日期  电场实际太阳辐射指数  时刻_2  辐照度_2  风速_2  风向_2  温度_2  湿度_2   气压_2  时刻_5  ...    \\\n",
       "0   1    0.108799     2      0   2.1   343  -7.2    51  69800     5  ...     \n",
       "1   2    0.130559     2      0   1.1    45  -5.2    46  69800     5  ...     \n",
       "2   3    0.114239     2      0   2.9   278  -7.4    58  69500     5  ...     \n",
       "3   4    0.081599     2      0   0.3    90  -6.1    38  69500     5  ...     \n",
       "4   5    0.212158     2      0   1.4   231  -9.9    33  69100     5  ...     \n",
       "\n",
       "   温度_20  湿度_20  气压_20  时刻_23  辐照度_23  风速_23  风向_23  温度_23  湿度_23  气压_23  \n",
       "0   -3.5     40  69700     23       0    0.8     14   -4.8     42  69700  \n",
       "1   -3.8     45  69400     23       0    2.5    297   -5.4     48  69500  \n",
       "2   -3.8     30  69500     23       0    0.8    140   -3.8     29  69500  \n",
       "3   -3.0     21  69100     23       0    0.8    270   -6.3     26  69200  \n",
       "4   -6.1     26  69200     23       0    1.1     63   -7.5     28  69300  \n",
       "\n",
       "[5 rows x 58 columns]"
      ]
     },
     "execution_count": 4,
     "metadata": {},
     "output_type": "execute_result"
    }
   ],
   "source": [
    "for i in range(8):\n",
    "    train_label_df = train_label_df.merge(train_feature_df_list[i], left_on = '日期', right_on='日期', how='left', suffixes=('',''))\n",
    "train_label_df.head()"
   ]
  },
  {
   "cell_type": "markdown",
   "metadata": {},
   "source": [
    "# 3.0  Model XGBoosting"
   ]
  },
  {
   "cell_type": "markdown",
   "metadata": {},
   "source": [
    "## 3.1 normalize data"
   ]
  },
  {
   "cell_type": "code",
   "execution_count": 5,
   "metadata": {},
   "outputs": [],
   "source": [
    "fcol = [c for c in train_label_df.columns if c not in ['日期', '时刻_2', '时刻_5', '时刻_8', '时刻_11', '时刻_14',\n",
    "                                             '时刻_17', '时刻_20', '时刻_23','辐照度_2', '辐照度_5','辐照度_23', '电场实际太阳辐射指数']]\n",
    "\n",
    "X = train_label_df[fcol].values\n",
    "y = train_label_df['电场实际太阳辐射指数']"
   ]
  },
  {
   "cell_type": "code",
   "execution_count": 6,
   "metadata": {},
   "outputs": [],
   "source": [
    "# Scaling of X values\n",
    "mins = np.min(X, axis=0)\n",
    "maxs = np.max(X, axis=0)\n",
    "rng = maxs - mins\n",
    "X = 1 - ((maxs - X) / rng)"
   ]
  },
  {
   "cell_type": "markdown",
   "metadata": {},
   "source": [
    "## 3.2 parameter analysis of XGBoosting"
   ]
  },
  {
   "cell_type": "markdown",
   "metadata": {},
   "source": [
    "### 3.2.1 n_estimator\n",
    "The number of trees (or rounds) in an XGBoost model is specified to the XGBClassifier or XGBRegressor class in the n_estimators argument. The default in the XGBoost library is 100"
   ]
  },
  {
   "cell_type": "code",
   "execution_count": 7,
   "metadata": {},
   "outputs": [
    {
     "name": "stdout",
     "output_type": "stream",
     "text": [
      "Best: -0.169155 using {'n_estimators': 100}\n",
      "-0.169155 (0.008189) with: {'n_estimators': 100}\n",
      "-0.172410 (0.008316) with: {'n_estimators': 200}\n",
      "-0.175598 (0.008421) with: {'n_estimators': 300}\n",
      "-0.178515 (0.008089) with: {'n_estimators': 400}\n",
      "-0.181137 (0.007610) with: {'n_estimators': 500}\n",
      "-0.183211 (0.007527) with: {'n_estimators': 600}\n",
      "-0.185103 (0.007517) with: {'n_estimators': 700}\n",
      "-0.186353 (0.007157) with: {'n_estimators': 800}\n",
      "-0.187526 (0.007107) with: {'n_estimators': 900}\n",
      "-0.188602 (0.007292) with: {'n_estimators': 1000}\n",
      "-0.189500 (0.007393) with: {'n_estimators': 1100}\n",
      "-0.190309 (0.007367) with: {'n_estimators': 1200}\n",
      "-0.191008 (0.007422) with: {'n_estimators': 1300}\n",
      "-0.191721 (0.007441) with: {'n_estimators': 1400}\n"
     ]
    },
    {
     "data": {
      "text/plain": [
       "Text(0,0.5,'Log Loss')"
      ]
     },
     "execution_count": 7,
     "metadata": {},
     "output_type": "execute_result"
    },
    {
     "data": {
      "image/png": "[encoded data removed]",
      "text/plain": [
       "<Figure size 432x288 with 1 Axes>"
      ]
     },
     "metadata": {},
     "output_type": "display_data"
    }
   ],
   "source": [
    "model = XGBRegressor()\n",
    "n_estimators = range(100, 1500, 100)\n",
    "param_grid = dict(n_estimators=n_estimators)\n",
    "kfold = KFold(n_splits=10, shuffle=True, random_state=7)\n",
    "\n",
    "grid_search = GridSearchCV(model, param_grid, scoring='neg_mean_absolute_error', n_jobs=-1, cv=kfold)\n",
    "grid_result = grid_search.fit(X, y)\n",
    "# summarize results\n",
    "print(\"Best: %f using %s\" % (grid_result.best_score_, grid_result.best_params_))\n",
    "means = grid_result.cv_results_['mean_test_score']\n",
    "stds = grid_result.cv_results_['std_test_score']\n",
    "params = grid_result.cv_results_['params']\n",
    "for mean, stdev, param in zip(means, stds, params):\n",
    "    print(\"%f (%f) with: %r\" % (mean, stdev, param))\n",
    "# plot\n",
    "pyplot.errorbar(n_estimators, means, yerr=stds)\n",
    "pyplot.title(\"XGBoost n_estimators vs Log Loss\")\n",
    "pyplot.xlabel('n_estimators')\n",
    "pyplot.ylabel('Log Loss')"
   ]
  },
  {
   "cell_type": "markdown",
   "metadata": {},
   "source": [
    "### 3.2.2 max_depth\n",
    "Used to control over-fitting as higher depth will allow model to learn relations very specific to a particular sample."
   ]
  },
  {
   "cell_type": "code",
   "execution_count": 11,
   "metadata": {},
   "outputs": [
    {
     "name": "stdout",
     "output_type": "stream",
     "text": [
      "range(1, 11, 2)\n",
      "Fitting 10 folds for each of 5 candidates, totalling 50 fits\n"
     ]
    },
    {
     "name": "stderr",
     "output_type": "stream",
     "text": [
      "[Parallel(n_jobs=-1)]: Done  42 tasks      | elapsed:   10.7s\n",
      "[Parallel(n_jobs=-1)]: Done  50 out of  50 | elapsed:   14.2s finished\n"
     ]
    },
    {
     "name": "stdout",
     "output_type": "stream",
     "text": [
      "Best: -0.169155 using {'max_depth': 3}\n",
      "-0.171310 (0.008271) with: {'max_depth': 1}\n",
      "-0.169155 (0.008189) with: {'max_depth': 3}\n",
      "-0.175675 (0.008120) with: {'max_depth': 5}\n",
      "-0.185003 (0.007988) with: {'max_depth': 7}\n",
      "-0.191209 (0.008810) with: {'max_depth': 9}\n"
     ]
    },
    {
     "data": {
      "text/plain": [
       "Text(0,0.5,'Log Loss')"
      ]
     },
     "execution_count": 11,
     "metadata": {},
     "output_type": "execute_result"
    },
    {
     "data": {
      "image/png": "[encoded data removed]",
      "text/plain": [
       "<Figure size 432x288 with 1 Axes>"
      ]
     },
     "metadata": {},
     "output_type": "display_data"
    }
   ],
   "source": [
    "model = XGBRegressor()\n",
    "max_depth = range(1, 11, 2)\n",
    "print(max_depth)\n",
    "param_grid = dict(max_depth=max_depth)\n",
    "kfold = KFold(n_splits=10, shuffle=True, random_state=7)\n",
    "grid_search = GridSearchCV(model, param_grid, scoring=\"neg_mean_absolute_error\", n_jobs=-1, cv=kfold, verbose=1)\n",
    "grid_result = grid_search.fit(X, y)\n",
    "# summarize results\n",
    "print(\"Best: %f using %s\" % (grid_result.best_score_, grid_result.best_params_))\n",
    "means = grid_result.cv_results_['mean_test_score']\n",
    "stds = grid_result.cv_results_['std_test_score']\n",
    "params = grid_result.cv_results_['params']\n",
    "for mean, stdev, param in zip(means, stds, params):\n",
    "    print(\"%f (%f) with: %r\" % (mean, stdev, param))\n",
    "# plot\n",
    "pyplot.errorbar(max_depth, means, yerr=stds)\n",
    "pyplot.title(\"XGBoost max_depth vs Log Loss\")\n",
    "pyplot.xlabel('max_depth')\n",
    "pyplot.ylabel('Log Loss')"
   ]
  },
  {
   "cell_type": "markdown",
   "metadata": {},
   "source": [
    "### 3.2.3 the two"
   ]
  },
  {
   "cell_type": "code",
   "execution_count": 15,
   "metadata": {},
   "outputs": [
    {
     "name": "stdout",
     "output_type": "stream",
     "text": [
      "[2, 4, 6, 8]\n",
      "Fitting 10 folds for each of 16 candidates, totalling 160 fits\n"
     ]
    },
    {
     "name": "stderr",
     "output_type": "stream",
     "text": [
      "[Parallel(n_jobs=-1)]: Done  42 tasks      | elapsed:    7.0s\n",
      "[Parallel(n_jobs=-1)]: Done 160 out of 160 | elapsed:   46.5s finished\n"
     ]
    },
    {
     "name": "stdout",
     "output_type": "stream",
     "text": [
      "Best: -0.167258 using {'n_estimators': 100, 'max_depth': 2}\n",
      "-0.167744 (0.008439) with: {'n_estimators': 50, 'max_depth': 2}\n",
      "-0.167258 (0.008478) with: {'n_estimators': 100, 'max_depth': 2}\n",
      "-0.167934 (0.008340) with: {'n_estimators': 150, 'max_depth': 2}\n",
      "-0.168593 (0.007975) with: {'n_estimators': 200, 'max_depth': 2}\n",
      "-0.169927 (0.007246) with: {'n_estimators': 50, 'max_depth': 4}\n",
      "-0.172685 (0.007074) with: {'n_estimators': 100, 'max_depth': 4}\n",
      "-0.175839 (0.006877) with: {'n_estimators': 150, 'max_depth': 4}\n",
      "-0.177959 (0.007110) with: {'n_estimators': 200, 'max_depth': 4}\n",
      "-0.175927 (0.008675) with: {'n_estimators': 50, 'max_depth': 6}\n",
      "-0.180953 (0.008377) with: {'n_estimators': 100, 'max_depth': 6}\n",
      "-0.184852 (0.008517) with: {'n_estimators': 150, 'max_depth': 6}\n",
      "-0.188073 (0.008375) with: {'n_estimators': 200, 'max_depth': 6}\n",
      "-0.183630 (0.007805) with: {'n_estimators': 50, 'max_depth': 8}\n",
      "-0.188363 (0.007988) with: {'n_estimators': 100, 'max_depth': 8}\n",
      "-0.191452 (0.007968) with: {'n_estimators': 150, 'max_depth': 8}\n",
      "-0.192791 (0.007719) with: {'n_estimators': 200, 'max_depth': 8}\n"
     ]
    },
    {
     "data": {
      "image/png": "[encoded data removed]",
      "text/plain": [
       "<Figure size 432x288 with 1 Axes>"
      ]
     },
     "metadata": {},
     "output_type": "display_data"
    }
   ],
   "source": [
    "model = XGBRegressor()\n",
    "n_estimators = [50, 100, 150, 200]\n",
    "max_depth = [2, 4, 6, 8]\n",
    "print(max_depth)\n",
    "param_grid = dict(max_depth=max_depth, n_estimators=n_estimators)\n",
    "kfold = KFold(n_splits=10, shuffle=True, random_state=7)\n",
    "grid_search = GridSearchCV(model, param_grid, scoring=\"neg_mean_absolute_error\", n_jobs=-1, cv=kfold, verbose=1)\n",
    "grid_result = grid_search.fit(X, y)\n",
    "# summarize results\n",
    "print(\"Best: %f using %s\" % (grid_result.best_score_, grid_result.best_params_))\n",
    "means = grid_result.cv_results_['mean_test_score']\n",
    "stds = grid_result.cv_results_['std_test_score']\n",
    "params = grid_result.cv_results_['params']\n",
    "for mean, stdev, param in zip(means, stds, params):\n",
    "\tprint(\"%f (%f) with: %r\" % (mean, stdev, param))\n",
    "# plot results\n",
    "scores = np.array(means).reshape(len(max_depth), len(n_estimators))\n",
    "for i, value in enumerate(max_depth):\n",
    "    pyplot.plot(n_estimators, scores[i], label='depth: ' + str(value))\n",
    "pyplot.legend()\n",
    "pyplot.xlabel('n_estimators')\n",
    "pyplot.ylabel('Log Loss')\n",
    "pyplot.savefig('n_estimators_vs_max_depth.png')"
   ]
  },
  {
   "cell_type": "markdown",
   "metadata": {},
   "source": [
    "### 3.2.4 with eta (learning rate)"
   ]
  },
  {
   "cell_type": "code",
   "execution_count": 54,
   "metadata": {},
   "outputs": [
    {
     "name": "stdout",
     "output_type": "stream",
     "text": [
      "Fitting 10 folds for each of 27 candidates, totalling 270 fits\n"
     ]
    },
    {
     "name": "stderr",
     "output_type": "stream",
     "text": [
      "[Parallel(n_jobs=-1)]: Done  42 tasks      | elapsed:    6.8s\n",
      "[Parallel(n_jobs=-1)]: Done 192 tasks      | elapsed:   28.3s\n",
      "[Parallel(n_jobs=-1)]: Done 270 out of 270 | elapsed:   39.6s finished\n"
     ]
    },
    {
     "name": "stdout",
     "output_type": "stream",
     "text": [
      "Best: -0.167258 using {'n_estimators': 100, 'max_depth': 2, 'learning_rate': 0.1}\n",
      "-0.167744 (0.008439) with: {'n_estimators': 50, 'max_depth': 2, 'learning_rate': 0.1}\n",
      "-0.167258 (0.008478) with: {'n_estimators': 100, 'max_depth': 2, 'learning_rate': 0.1}\n",
      "-0.167934 (0.008340) with: {'n_estimators': 150, 'max_depth': 2, 'learning_rate': 0.1}\n",
      "-0.167716 (0.008365) with: {'n_estimators': 50, 'max_depth': 3, 'learning_rate': 0.1}\n",
      "-0.169155 (0.008189) with: {'n_estimators': 100, 'max_depth': 3, 'learning_rate': 0.1}\n",
      "-0.170581 (0.008231) with: {'n_estimators': 150, 'max_depth': 3, 'learning_rate': 0.1}\n",
      "-0.169927 (0.007246) with: {'n_estimators': 50, 'max_depth': 4, 'learning_rate': 0.1}\n",
      "-0.172685 (0.007074) with: {'n_estimators': 100, 'max_depth': 4, 'learning_rate': 0.1}\n",
      "-0.175839 (0.006877) with: {'n_estimators': 150, 'max_depth': 4, 'learning_rate': 0.1}\n",
      "-0.191075 (0.011083) with: {'n_estimators': 50, 'max_depth': 2, 'learning_rate': 0.01}\n",
      "-0.180207 (0.010510) with: {'n_estimators': 100, 'max_depth': 2, 'learning_rate': 0.01}\n",
      "-0.174516 (0.010071) with: {'n_estimators': 150, 'max_depth': 2, 'learning_rate': 0.01}\n",
      "-0.188170 (0.011018) with: {'n_estimators': 50, 'max_depth': 3, 'learning_rate': 0.01}\n",
      "-0.176987 (0.010408) with: {'n_estimators': 100, 'max_depth': 3, 'learning_rate': 0.01}\n",
      "-0.172236 (0.009767) with: {'n_estimators': 150, 'max_depth': 3, 'learning_rate': 0.01}\n",
      "-0.186773 (0.010716) with: {'n_estimators': 50, 'max_depth': 4, 'learning_rate': 0.01}\n",
      "-0.175791 (0.009774) with: {'n_estimators': 100, 'max_depth': 4, 'learning_rate': 0.01}\n",
      "-0.171575 (0.009001) with: {'n_estimators': 150, 'max_depth': 4, 'learning_rate': 0.01}\n",
      "-0.209623 (0.010555) with: {'n_estimators': 50, 'max_depth': 2, 'learning_rate': 0.001}\n",
      "-0.206911 (0.010649) with: {'n_estimators': 100, 'max_depth': 2, 'learning_rate': 0.001}\n",
      "-0.204436 (0.010736) with: {'n_estimators': 150, 'max_depth': 2, 'learning_rate': 0.001}\n",
      "-0.209087 (0.010510) with: {'n_estimators': 50, 'max_depth': 3, 'learning_rate': 0.001}\n",
      "-0.205904 (0.010611) with: {'n_estimators': 100, 'max_depth': 3, 'learning_rate': 0.001}\n",
      "-0.203039 (0.010660) with: {'n_estimators': 150, 'max_depth': 3, 'learning_rate': 0.001}\n",
      "-0.208886 (0.010386) with: {'n_estimators': 50, 'max_depth': 4, 'learning_rate': 0.001}\n",
      "-0.205499 (0.010406) with: {'n_estimators': 100, 'max_depth': 4, 'learning_rate': 0.001}\n",
      "-0.202417 (0.010458) with: {'n_estimators': 150, 'max_depth': 4, 'learning_rate': 0.001}\n"
     ]
    }
   ],
   "source": [
    "model = XGBRegressor()\n",
    "eta = np.array([0.1,0.01,0.001])\n",
    "n_estimators = [50, 100, 150]\n",
    "max_depth = [2, 3, 4]\n",
    "param_grid = dict(learning_rate=eta, max_depth=max_depth, n_estimators=n_estimators)\n",
    "kfold = KFold(n_splits=10, shuffle=True, random_state=7)\n",
    "grid_search = GridSearchCV(model, param_grid, scoring=\"neg_mean_absolute_error\", n_jobs=-1, cv=kfold, verbose=1)\n",
    "grid_result = grid_search.fit(X, y)\n",
    "# summarize results\n",
    "print(\"Best: %f using %s\" % (grid_result.best_score_, grid_result.best_params_))\n",
    "means = grid_result.cv_results_['mean_test_score']\n",
    "stds = grid_result.cv_results_['std_test_score']\n",
    "params = grid_result.cv_results_['params']\n",
    "for mean, stdev, param in zip(means, stds, params):\n",
    "    print(\"%f (%f) with: %r\" % (mean, stdev, param))"
   ]
  },
  {
   "cell_type": "markdown",
   "metadata": {},
   "source": [
    "## 3.3 train & predict"
   ]
  },
  {
   "cell_type": "code",
   "execution_count": 49,
   "metadata": {},
   "outputs": [
    {
     "data": {
      "text/plain": [
       "XGBRegressor(base_score=0.5, booster='gbtree', colsample_bylevel=1,\n",
       "       colsample_bytree=1, gamma=0, learning_rate=0.1, max_delta_step=0,\n",
       "       max_depth=2, min_child_weight=1, missing=None, n_estimators=100,\n",
       "       n_jobs=4, nthread=None, objective='binary:logistic', random_state=0,\n",
       "       reg_alpha=0, reg_lambda=1, scale_pos_weight=1, seed=None,\n",
       "       silent=True, subsample=1, tree_method='gpu_hist')"
      ]
     },
     "execution_count": 49,
     "metadata": {},
     "output_type": "execute_result"
    }
   ],
   "source": [
    "## xgboost training\n",
    "xgb_up = xgboost.XGBRegressor(n_jobs=4,\n",
    "                       n_estimators=100,\n",
    "                       max_depth=2,\n",
    "                       objective='binary:logistic',\n",
    "                       min_child_weight=1,\n",
    "                       tree_method='gpu_hist',\n",
    "                       silent= True)\n",
    "xgb_up.fit(X, y)"
   ]
  },
  {
   "cell_type": "code",
   "execution_count": 38,
   "metadata": {},
   "outputs": [
    {
     "data": {
      "application/vnd.plotly.v1+json": {
       "data": [
        {
         "marker": {
          "color": [
           "#7c7fdf",
           "#395810",
           "#f4581c",
           "#4119df",
           "#60e2a8",
           "#c25a5f",
           "#cda45a",
           "#2bdedc",
           "#d6f451",
           "#80f12e",
           "#9394c3",
           "#d3fcd3",
           "#15d36f",
           "#d854cc",
           "#41736f",
           "#841234",
           "#70e8e9",
           "#9f00e3",
           "#add078",
           "#0abaa0",
           "#40b200",
           "#5071f4",
           "#c75227",
           "#dde941",
           "#71b15d",
           "#b1e5b8",
           "#a21837",
           "#3856b2",
           "#7b901d",
           "#60ae47",
           "#fa953a",
           "#1cd832",
           "#ca47f6",
           "#f6c200",
           "#7f9710",
           "#99ef9f",
           "#f40b2c",
           "#c5dc02",
           "#0432d5",
           "#1ea4cb",
           "#eb79a8",
           "#29de0a",
           "#e2db3c",
           "#7088f0",
           "#31c47c"
          ],
          "line": {
           "color": "#000000",
           "width": 0.5
          },
          "opacity": 0.87
         },
         "name": "Features",
         "orientation": "h",
         "textfont": {
          "size": 20
         },
         "type": "bar",
         "uid": "122add78-d9dd-11e8-b80a-507b9d6c375d",
         "x": [
          0,
          0,
          0,
          0,
          0,
          0.003401360474526882,
          0.003401360474526882,
          0.003401360474526882,
          0.006802720949053764,
          0.006802720949053764,
          0.006802720949053764,
          0.006802720949053764,
          0.006802720949053764,
          0.006802720949053764,
          0.006802720949053764,
          0.010204081423580647,
          0.010204081423580647,
          0.010204081423580647,
          0.013605441898107529,
          0.013605441898107529,
          0.017006803303956985,
          0.017006803303956985,
          0.020408162847161293,
          0.020408162847161293,
          0.02380952425301075,
          0.02380952425301075,
          0.02380952425301075,
          0.02380952425301075,
          0.027210883796215057,
          0.027210883796215057,
          0.027210883796215057,
          0.027210883796215057,
          0.030612245202064514,
          0.03401360660791397,
          0.03401360660791397,
          0.03401360660791397,
          0.03401360660791397,
          0.03741496428847313,
          0.040816325694322586,
          0.04421768710017204,
          0.0476190485060215,
          0.051020409911870956,
          0.054421767592430115,
          0.06462585180997849,
          0.09863945841789246
         ],
         "y": [
          "风速_23",
          "风速_14",
          "温度_14",
          "气压_17",
          "气压_14",
          "湿度_8",
          "气压_5",
          "气压_23",
          "风速_8",
          "风向_11",
          "湿度_2",
          "湿度_11",
          "温度_23",
          "温度_2",
          "温度_11",
          "湿度_20",
          "湿度_17",
          "温度_17",
          "温度_5",
          "温度_20",
          "气压_8",
          "气压_20",
          "风速_11",
          "风向_14",
          "风速_2",
          "风向_8",
          "风向_17",
          "气压_11",
          "辐照度_17",
          "湿度_14",
          "温度_8",
          "气压_2",
          "风向_23",
          "风速_5",
          "风速_17",
          "风向_5",
          "风向_2",
          "湿度_5",
          "风速_20",
          "辐照度_14",
          "辐照度_11",
          "风向_20",
          "辐照度_8",
          "湿度_23",
          "辐照度_20"
         ]
        }
       ],
       "layout": {
        "showlegend": true,
        "title": "Feature Importance of XGBOOST",
        "xaxis": {
         "gridwidth": 2,
         "ticklen": 5,
         "title": "Columns",
         "zeroline": false
        },
        "yaxis": {
         "gridwidth": 2,
         "ticklen": 5,
         "title": "Value Count"
        }
       }
      },
      "text/html": [
       "<div id=\"793926a8-8311-4306-b947-73849f8f48b6\" style=\"height: 525px; width: 100%;\" class=\"plotly-graph-div\"></div><script type=\"text/javascript\">require([\"plotly\"], function(Plotly) { window.PLOTLYENV=window.PLOTLYENV || {};window.PLOTLYENV.BASE_URL=\"https://plot.ly\";Plotly.newPlot(\"793926a8-8311-4306-b947-73849f8f48b6\", [{\"name\": \"Features\", \"uid\": \"122de81a-d9dd-11e8-b3f6-507b9d6c375d\", \"type\": \"bar\", \"marker\": {\"opacity\": 0.87, \"line\": {\"color\": \"#000000\", \"width\": 0.5}, \"color\": [\"#7c7fdf\", \"#395810\", \"#f4581c\", \"#4119df\", \"#60e2a8\", \"#c25a5f\", \"#cda45a\", \"#2bdedc\", \"#d6f451\", \"#80f12e\", \"#9394c3\", \"#d3fcd3\", \"#15d36f\", \"#d854cc\", \"#41736f\", \"#841234\", \"#70e8e9\", \"#9f00e3\", \"#add078\", \"#0abaa0\", \"#40b200\", \"#5071f4\", \"#c75227\", \"#dde941\", \"#71b15d\", \"#b1e5b8\", \"#a21837\", \"#3856b2\", \"#7b901d\", \"#60ae47\", \"#fa953a\", \"#1cd832\", \"#ca47f6\", \"#f6c200\", \"#7f9710\", \"#99ef9f\", \"#f40b2c\", \"#c5dc02\", \"#0432d5\", \"#1ea4cb\", \"#eb79a8\", \"#29de0a\", \"#e2db3c\", \"#7088f0\", \"#31c47c\"]}, \"y\": [\"\\u98ce\\u901f_23\", \"\\u98ce\\u901f_14\", \"\\u6e29\\u5ea6_14\", \"\\u6c14\\u538b_17\", \"\\u6c14\\u538b_14\", \"\\u6e7f\\u5ea6_8\", \"\\u6c14\\u538b_5\", \"\\u6c14\\u538b_23\", \"\\u98ce\\u901f_8\", \"\\u98ce\\u5411_11\", \"\\u6e7f\\u5ea6_2\", \"\\u6e7f\\u5ea6_11\", \"\\u6e29\\u5ea6_23\", \"\\u6e29\\u5ea6_2\", \"\\u6e29\\u5ea6_11\", \"\\u6e7f\\u5ea6_20\", \"\\u6e7f\\u5ea6_17\", \"\\u6e29\\u5ea6_17\", \"\\u6e29\\u5ea6_5\", \"\\u6e29\\u5ea6_20\", \"\\u6c14\\u538b_8\", \"\\u6c14\\u538b_20\", \"\\u98ce\\u901f_11\", \"\\u98ce\\u5411_14\", \"\\u98ce\\u901f_2\", \"\\u98ce\\u5411_8\", \"\\u98ce\\u5411_17\", \"\\u6c14\\u538b_11\", \"\\u8f90\\u7167\\u5ea6_17\", \"\\u6e7f\\u5ea6_14\", \"\\u6e29\\u5ea6_8\", \"\\u6c14\\u538b_2\", \"\\u98ce\\u5411_23\", \"\\u98ce\\u901f_5\", \"\\u98ce\\u901f_17\", \"\\u98ce\\u5411_5\", \"\\u98ce\\u5411_2\", \"\\u6e7f\\u5ea6_5\", \"\\u98ce\\u901f_20\", \"\\u8f90\\u7167\\u5ea6_14\", \"\\u8f90\\u7167\\u5ea6_11\", \"\\u98ce\\u5411_20\", \"\\u8f90\\u7167\\u5ea6_8\", \"\\u6e7f\\u5ea6_23\", \"\\u8f90\\u7167\\u5ea6_20\"], \"x\": [0.0, 0.0, 0.0, 0.0, 0.0, 0.003401360474526882, 0.003401360474526882, 0.003401360474526882, 0.006802720949053764, 0.006802720949053764, 0.006802720949053764, 0.006802720949053764, 0.006802720949053764, 0.006802720949053764, 0.006802720949053764, 0.010204081423580647, 0.010204081423580647, 0.010204081423580647, 0.013605441898107529, 0.013605441898107529, 0.017006803303956985, 0.017006803303956985, 0.020408162847161293, 0.020408162847161293, 0.02380952425301075, 0.02380952425301075, 0.02380952425301075, 0.02380952425301075, 0.027210883796215057, 0.027210883796215057, 0.027210883796215057, 0.027210883796215057, 0.030612245202064514, 0.03401360660791397, 0.03401360660791397, 0.03401360660791397, 0.03401360660791397, 0.03741496428847313, 0.040816325694322586, 0.04421768710017204, 0.0476190485060215, 0.051020409911870956, 0.054421767592430115, 0.06462585180997849, 0.09863945841789246], \"textfont\": {\"size\": 20}, \"orientation\": \"h\"}], {\"title\": \"Feature Importance of XGBOOST\", \"xaxis\": {\"title\": \"Columns\", \"gridwidth\": 2, \"zeroline\": false, \"ticklen\": 5}, \"yaxis\": {\"title\": \"Value Count\", \"gridwidth\": 2, \"ticklen\": 5}, \"showlegend\": true}, {\"showLink\": true, \"linkText\": \"Export to plot.ly\"})});</script>"
      ],
      "text/vnd.plotly.v1+html": [
       "<div id=\"793926a8-8311-4306-b947-73849f8f48b6\" style=\"height: 525px; width: 100%;\" class=\"plotly-graph-div\"></div><script type=\"text/javascript\">require([\"plotly\"], function(Plotly) { window.PLOTLYENV=window.PLOTLYENV || {};window.PLOTLYENV.BASE_URL=\"https://plot.ly\";Plotly.newPlot(\"793926a8-8311-4306-b947-73849f8f48b6\", [{\"name\": \"Features\", \"uid\": \"122de81a-d9dd-11e8-b3f6-507b9d6c375d\", \"type\": \"bar\", \"marker\": {\"opacity\": 0.87, \"line\": {\"color\": \"#000000\", \"width\": 0.5}, \"color\": [\"#7c7fdf\", \"#395810\", \"#f4581c\", \"#4119df\", \"#60e2a8\", \"#c25a5f\", \"#cda45a\", \"#2bdedc\", \"#d6f451\", \"#80f12e\", \"#9394c3\", \"#d3fcd3\", \"#15d36f\", \"#d854cc\", \"#41736f\", \"#841234\", \"#70e8e9\", \"#9f00e3\", \"#add078\", \"#0abaa0\", \"#40b200\", \"#5071f4\", \"#c75227\", \"#dde941\", \"#71b15d\", \"#b1e5b8\", \"#a21837\", \"#3856b2\", \"#7b901d\", \"#60ae47\", \"#fa953a\", \"#1cd832\", \"#ca47f6\", \"#f6c200\", \"#7f9710\", \"#99ef9f\", \"#f40b2c\", \"#c5dc02\", \"#0432d5\", \"#1ea4cb\", \"#eb79a8\", \"#29de0a\", \"#e2db3c\", \"#7088f0\", \"#31c47c\"]}, \"y\": [\"\\u98ce\\u901f_23\", \"\\u98ce\\u901f_14\", \"\\u6e29\\u5ea6_14\", \"\\u6c14\\u538b_17\", \"\\u6c14\\u538b_14\", \"\\u6e7f\\u5ea6_8\", \"\\u6c14\\u538b_5\", \"\\u6c14\\u538b_23\", \"\\u98ce\\u901f_8\", \"\\u98ce\\u5411_11\", \"\\u6e7f\\u5ea6_2\", \"\\u6e7f\\u5ea6_11\", \"\\u6e29\\u5ea6_23\", \"\\u6e29\\u5ea6_2\", \"\\u6e29\\u5ea6_11\", \"\\u6e7f\\u5ea6_20\", \"\\u6e7f\\u5ea6_17\", \"\\u6e29\\u5ea6_17\", \"\\u6e29\\u5ea6_5\", \"\\u6e29\\u5ea6_20\", \"\\u6c14\\u538b_8\", \"\\u6c14\\u538b_20\", \"\\u98ce\\u901f_11\", \"\\u98ce\\u5411_14\", \"\\u98ce\\u901f_2\", \"\\u98ce\\u5411_8\", \"\\u98ce\\u5411_17\", \"\\u6c14\\u538b_11\", \"\\u8f90\\u7167\\u5ea6_17\", \"\\u6e7f\\u5ea6_14\", \"\\u6e29\\u5ea6_8\", \"\\u6c14\\u538b_2\", \"\\u98ce\\u5411_23\", \"\\u98ce\\u901f_5\", \"\\u98ce\\u901f_17\", \"\\u98ce\\u5411_5\", \"\\u98ce\\u5411_2\", \"\\u6e7f\\u5ea6_5\", \"\\u98ce\\u901f_20\", \"\\u8f90\\u7167\\u5ea6_14\", \"\\u8f90\\u7167\\u5ea6_11\", \"\\u98ce\\u5411_20\", \"\\u8f90\\u7167\\u5ea6_8\", \"\\u6e7f\\u5ea6_23\", \"\\u8f90\\u7167\\u5ea6_20\"], \"x\": [0.0, 0.0, 0.0, 0.0, 0.0, 0.003401360474526882, 0.003401360474526882, 0.003401360474526882, 0.006802720949053764, 0.006802720949053764, 0.006802720949053764, 0.006802720949053764, 0.006802720949053764, 0.006802720949053764, 0.006802720949053764, 0.010204081423580647, 0.010204081423580647, 0.010204081423580647, 0.013605441898107529, 0.013605441898107529, 0.017006803303956985, 0.017006803303956985, 0.020408162847161293, 0.020408162847161293, 0.02380952425301075, 0.02380952425301075, 0.02380952425301075, 0.02380952425301075, 0.027210883796215057, 0.027210883796215057, 0.027210883796215057, 0.027210883796215057, 0.030612245202064514, 0.03401360660791397, 0.03401360660791397, 0.03401360660791397, 0.03401360660791397, 0.03741496428847313, 0.040816325694322586, 0.04421768710017204, 0.0476190485060215, 0.051020409911870956, 0.054421767592430115, 0.06462585180997849, 0.09863945841789246], \"textfont\": {\"size\": 20}, \"orientation\": \"h\"}], {\"title\": \"Feature Importance of XGBOOST\", \"xaxis\": {\"title\": \"Columns\", \"gridwidth\": 2, \"zeroline\": false, \"ticklen\": 5}, \"yaxis\": {\"title\": \"Value Count\", \"gridwidth\": 2, \"ticklen\": 5}, \"showlegend\": true}, {\"showLink\": true, \"linkText\": \"Export to plot.ly\"})});</script>"
      ]
     },
     "metadata": {},
     "output_type": "display_data"
    }
   ],
   "source": [
    "def generate_color():\n",
    "    color = '#{:02x}{:02x}{:02x}'.format(*map(lambda x: np.random.randint(0, 255), range(3)))\n",
    "    return color\n",
    "\n",
    "df = pd.DataFrame({'imp': xgb_up.feature_importances_, 'col':fcol})\n",
    "df = df.sort_values(['imp','col'], ascending=[True, False])\n",
    "data = [df]\n",
    "for dd in data:  \n",
    "    colors = []\n",
    "    for i in range(len(dd)):\n",
    "         colors.append(generate_color())\n",
    "    data = [\n",
    "        go.Bar(\n",
    "        orientation = 'h',\n",
    "        x=dd.imp,\n",
    "        y=dd.col,\n",
    "        name='Features',\n",
    "        textfont=dict(size=20),\n",
    "            marker=dict(\n",
    "            color= colors,\n",
    "            line=dict(\n",
    "                color='#000000',\n",
    "                width=0.5\n",
    "            ),\n",
    "            opacity = 0.87\n",
    "        )\n",
    "    )\n",
    "    ]\n",
    "    layout= go.Layout(\n",
    "        title= 'Feature Importance of XGBOOST',\n",
    "        xaxis= dict(title='Columns', ticklen=5, zeroline=False, gridwidth=2),\n",
    "        yaxis=dict(title='Value Count', ticklen=5, gridwidth=2),\n",
    "        showlegend=True\n",
    "    )\n",
    "\n",
    "    py.iplot(dict(data=data,layout=layout), filename='horizontal-bar')"
   ]
  },
  {
   "cell_type": "markdown",
   "metadata": {},
   "source": [
    "# Test Dataset"
   ]
  },
  {
   "cell_type": "code",
   "execution_count": 26,
   "metadata": {},
   "outputs": [
    {
     "name": "stdout",
     "output_type": "stream",
     "text": [
      "dates in test dataset is :  912.0\n"
     ]
    }
   ],
   "source": [
    "test_feature_df = test_feature_df.iloc[0:7296]\n",
    "print('dates in test dataset is : ', test_feature_df.shape[0]/8)"
   ]
  },
  {
   "cell_type": "code",
   "execution_count": 27,
   "metadata": {},
   "outputs": [],
   "source": [
    "# initalize the test label\n",
    "index = np.arange(912)\n",
    "columns = ['日期']\n",
    "data = np.array([np.arange(1, 913)]).T\n",
    "test_label_df = pd.DataFrame(data, index=index, columns=columns)"
   ]
  },
  {
   "cell_type": "code",
   "execution_count": 28,
   "metadata": {},
   "outputs": [],
   "source": [
    "test_feature_df_list = []\n",
    "for i in [2,5,8,11,14,17,20,23]:\n",
    "    temp_df = test_feature_df[test_feature_df['时刻'] == i].add_suffix('_'+str(i))\n",
    "    temp_df.rename(columns={'日期_'+str(i):'日期'}, inplace=True)\n",
    "    test_feature_df_list.append(temp_df )\n",
    "    \n",
    "for i in range(8):\n",
    "    test_label_df = test_label_df.merge(test_feature_df_list[i], left_on = '日期', right_on='日期', how='left', suffixes=('',''))"
   ]
  },
  {
   "cell_type": "code",
   "execution_count": 29,
   "metadata": {},
   "outputs": [
    {
     "data": {
      "text/html": [
       "<div>\n",
       "<style scoped>\n",
       "    .dataframe tbody tr th:only-of-type {\n",
       "        vertical-align: middle;\n",
       "    }\n",
       "\n",
       "    .dataframe tbody tr th {\n",
       "        vertical-align: top;\n",
       "    }\n",
       "\n",
       "    .dataframe thead th {\n",
       "        text-align: right;\n",
       "    }\n",
       "</style>\n",
       "<table border=\"1\" class=\"dataframe\">\n",
       "  <thead>\n",
       "    <tr style=\"text-align: right;\">\n",
       "      <th></th>\n",
       "      <th>日期</th>\n",
       "      <th>时刻_2</th>\n",
       "      <th>辐照度_2</th>\n",
       "      <th>风速_2</th>\n",
       "      <th>风向_2</th>\n",
       "      <th>温度_2</th>\n",
       "      <th>湿度_2</th>\n",
       "      <th>气压_2</th>\n",
       "      <th>时刻_5</th>\n",
       "      <th>辐照度_5</th>\n",
       "      <th>...</th>\n",
       "      <th>温度_20</th>\n",
       "      <th>湿度_20</th>\n",
       "      <th>气压_20</th>\n",
       "      <th>时刻_23</th>\n",
       "      <th>辐照度_23</th>\n",
       "      <th>风速_23</th>\n",
       "      <th>风向_23</th>\n",
       "      <th>温度_23</th>\n",
       "      <th>湿度_23</th>\n",
       "      <th>气压_23</th>\n",
       "    </tr>\n",
       "  </thead>\n",
       "  <tbody>\n",
       "    <tr>\n",
       "      <th>0</th>\n",
       "      <td>1</td>\n",
       "      <td>2</td>\n",
       "      <td>0</td>\n",
       "      <td>1.3</td>\n",
       "      <td>257</td>\n",
       "      <td>-8.6</td>\n",
       "      <td>34</td>\n",
       "      <td>68600</td>\n",
       "      <td>5</td>\n",
       "      <td>0</td>\n",
       "      <td>...</td>\n",
       "      <td>-6.3</td>\n",
       "      <td>19</td>\n",
       "      <td>68900</td>\n",
       "      <td>23</td>\n",
       "      <td>0</td>\n",
       "      <td>14.9</td>\n",
       "      <td>286</td>\n",
       "      <td>-8.7</td>\n",
       "      <td>21</td>\n",
       "      <td>69100</td>\n",
       "    </tr>\n",
       "    <tr>\n",
       "      <th>1</th>\n",
       "      <td>2</td>\n",
       "      <td>2</td>\n",
       "      <td>0</td>\n",
       "      <td>13.8</td>\n",
       "      <td>288</td>\n",
       "      <td>-10.7</td>\n",
       "      <td>28</td>\n",
       "      <td>69300</td>\n",
       "      <td>5</td>\n",
       "      <td>0</td>\n",
       "      <td>...</td>\n",
       "      <td>-6.8</td>\n",
       "      <td>16</td>\n",
       "      <td>69400</td>\n",
       "      <td>23</td>\n",
       "      <td>0</td>\n",
       "      <td>11.6</td>\n",
       "      <td>280</td>\n",
       "      <td>-9.4</td>\n",
       "      <td>20</td>\n",
       "      <td>69600</td>\n",
       "    </tr>\n",
       "    <tr>\n",
       "      <th>2</th>\n",
       "      <td>3</td>\n",
       "      <td>2</td>\n",
       "      <td>0</td>\n",
       "      <td>9.6</td>\n",
       "      <td>274</td>\n",
       "      <td>-12.1</td>\n",
       "      <td>24</td>\n",
       "      <td>69700</td>\n",
       "      <td>5</td>\n",
       "      <td>0</td>\n",
       "      <td>...</td>\n",
       "      <td>-4.1</td>\n",
       "      <td>9</td>\n",
       "      <td>69800</td>\n",
       "      <td>23</td>\n",
       "      <td>0</td>\n",
       "      <td>12.1</td>\n",
       "      <td>281</td>\n",
       "      <td>-7.0</td>\n",
       "      <td>11</td>\n",
       "      <td>70000</td>\n",
       "    </tr>\n",
       "    <tr>\n",
       "      <th>3</th>\n",
       "      <td>4</td>\n",
       "      <td>2</td>\n",
       "      <td>0</td>\n",
       "      <td>7.5</td>\n",
       "      <td>278</td>\n",
       "      <td>-10.3</td>\n",
       "      <td>15</td>\n",
       "      <td>70000</td>\n",
       "      <td>5</td>\n",
       "      <td>0</td>\n",
       "      <td>...</td>\n",
       "      <td>-3.9</td>\n",
       "      <td>14</td>\n",
       "      <td>69500</td>\n",
       "      <td>23</td>\n",
       "      <td>0</td>\n",
       "      <td>3.3</td>\n",
       "      <td>272</td>\n",
       "      <td>-6.1</td>\n",
       "      <td>20</td>\n",
       "      <td>69500</td>\n",
       "    </tr>\n",
       "    <tr>\n",
       "      <th>4</th>\n",
       "      <td>5</td>\n",
       "      <td>2</td>\n",
       "      <td>0</td>\n",
       "      <td>5.1</td>\n",
       "      <td>276</td>\n",
       "      <td>-8.1</td>\n",
       "      <td>16</td>\n",
       "      <td>69600</td>\n",
       "      <td>5</td>\n",
       "      <td>0</td>\n",
       "      <td>...</td>\n",
       "      <td>-1.0</td>\n",
       "      <td>20</td>\n",
       "      <td>68700</td>\n",
       "      <td>23</td>\n",
       "      <td>0</td>\n",
       "      <td>1.6</td>\n",
       "      <td>333</td>\n",
       "      <td>-2.9</td>\n",
       "      <td>24</td>\n",
       "      <td>68700</td>\n",
       "    </tr>\n",
       "  </tbody>\n",
       "</table>\n",
       "<p>5 rows × 57 columns</p>\n",
       "</div>"
      ],
      "text/plain": [
       "   日期  时刻_2  辐照度_2  风速_2  风向_2  温度_2  湿度_2   气压_2  时刻_5  辐照度_5  ...    温度_20  \\\n",
       "0   1     2      0   1.3   257  -8.6    34  68600     5      0  ...     -6.3   \n",
       "1   2     2      0  13.8   288 -10.7    28  69300     5      0  ...     -6.8   \n",
       "2   3     2      0   9.6   274 -12.1    24  69700     5      0  ...     -4.1   \n",
       "3   4     2      0   7.5   278 -10.3    15  70000     5      0  ...     -3.9   \n",
       "4   5     2      0   5.1   276  -8.1    16  69600     5      0  ...     -1.0   \n",
       "\n",
       "   湿度_20  气压_20  时刻_23  辐照度_23  风速_23  风向_23  温度_23  湿度_23  气压_23  \n",
       "0     19  68900     23       0   14.9    286   -8.7     21  69100  \n",
       "1     16  69400     23       0   11.6    280   -9.4     20  69600  \n",
       "2      9  69800     23       0   12.1    281   -7.0     11  70000  \n",
       "3     14  69500     23       0    3.3    272   -6.1     20  69500  \n",
       "4     20  68700     23       0    1.6    333   -2.9     24  68700  \n",
       "\n",
       "[5 rows x 57 columns]"
      ]
     },
     "execution_count": 29,
     "metadata": {},
     "output_type": "execute_result"
    }
   ],
   "source": [
    "test_label_df.head()"
   ]
  },
  {
   "cell_type": "markdown",
   "metadata": {},
   "source": [
    "### prediction"
   ]
  },
  {
   "cell_type": "code",
   "execution_count": 30,
   "metadata": {},
   "outputs": [
    {
     "data": {
      "text/plain": [
       "(912, 45)"
      ]
     },
     "execution_count": 30,
     "metadata": {},
     "output_type": "execute_result"
    }
   ],
   "source": [
    "x_test = test_label_df[fcol].values\n",
    "x_test = 1 - ((maxs - x_test) / rng)\n",
    "x_test.shape"
   ]
  },
  {
   "cell_type": "code",
   "execution_count": 36,
   "metadata": {},
   "outputs": [],
   "source": [
    "predict = xgb_up.predict(x_test)"
   ]
  },
  {
   "cell_type": "markdown",
   "metadata": {},
   "source": [
    "### make submission"
   ]
  },
  {
   "cell_type": "code",
   "execution_count": 37,
   "metadata": {},
   "outputs": [],
   "source": [
    "data = np.array([np.arange(1, 913)]).T\n",
    "submission_df = pd.DataFrame(data, index=index, columns=columns)\n",
    "submission_df['prediction'] = predict\n",
    "submission_df.rename(columns={'日期':'time'}, inplace=True)\n",
    "submission_df.to_csv('submission.csv', index=False)"
   ]
  },
  {
   "cell_type": "markdown",
   "metadata": {},
   "source": [
    "### 2018/10/26 Error analysis\n",
    "- xgb_up = XGBClassifier(n_jobs=4,n_estimators=300,max_depth=3,eta=0.15)\n",
    "- score former 100 : 0.145                     \n",
    "- part of the predictions are good, parts are extremely bad --- overlapping ??"
   ]
  },
  {
   "cell_type": "markdown",
   "metadata": {},
   "source": [
    "### 2018/10/26 Error analysis 2\n",
    "- xgb_up = XGBClassifier(n_jobs=4,n_estimators=500,max_depth=5,eta=0.15,objective='binary:logistic',min_child_weight=4,predictor='gpu_predictor',silent= True)\n",
    "- score former 100 : 0.3\n",
    "- wind of 8 and 2 become more important feature than before (radio 11 7 was more important)\n",
    "### the problem is that I used a classifier               "
   ]
  },
  {
   "cell_type": "markdown",
   "metadata": {},
   "source": [
    "### 2018/10/27 Score\n",
    "- xgb_up = xgboost.XGBRegressor(n_jobs=4,n_estimators=100,max_depth=2,learning_rate=0.1,\n",
    "objective='binary:logistic',min_child_weight=1,tree_method='gpu_hist',silent= True)\n",
    "- score 0.19\n",
    "- seems better"
   ]
  }
 ],
 "metadata": {
  "kernelspec": {
   "display_name": "python 3.5 tf gpu",
   "language": "python",
   "name": "tensorflow_gpu"
  },
  "language_info": {
   "codemirror_mode": {
    "name": "ipython",
    "version": 3
   },
   "file_extension": ".py",
   "mimetype": "text/x-python",
   "name": "python",
   "nbconvert_exporter": "python",
   "pygments_lexer": "ipython3",
   "version": "3.5.5"
  }
 },
 "nbformat": 4,
 "nbformat_minor": 2
}
