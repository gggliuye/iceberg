{
 "cells": [
  {
   "cell_type": "code",
   "execution_count": 1,
   "metadata": {},
   "outputs": [
    {
     "data": {
      "text/html": [
       "<script>requirejs.config({paths: { 'plotly': ['https://cdn.plot.ly/plotly-latest.min']},});if(!window.Plotly) {{require(['plotly'],function(plotly) {window.Plotly=plotly;});}}</script>"
      ],
      "text/vnd.plotly.v1+html": [
       "<script>requirejs.config({paths: { 'plotly': ['https://cdn.plot.ly/plotly-latest.min']},});if(!window.Plotly) {{require(['plotly'],function(plotly) {window.Plotly=plotly;});}}</script>"
      ]
     },
     "metadata": {},
     "output_type": "display_data"
    }
   ],
   "source": [
    "import numpy as np\n",
    "import pandas as pd\n",
    "import matplotlib.pyplot as plt\n",
    "import seaborn as sns\n",
    "%matplotlib inline\n",
    "\n",
    "from math import radians, atan, tan, sin, acos, cos\n",
    "from sklearn.model_selection import train_test_split\n",
    "\n",
    "import plotly.offline as py\n",
    "py.init_notebook_mode(connected=True)\n",
    "import plotly.graph_objs as go\n",
    "import plotly.tools as tls\n",
    "\n",
    "from xgboost import XGBClassifier\n",
    "from sklearn import model_selection\n",
    "from sklearn.metrics import accuracy_score\n",
    "\n",
    "import progressbar\n",
    "import warnings\n",
    "warnings.filterwarnings('ignore')"
   ]
  },
  {
   "cell_type": "markdown",
   "metadata": {},
   "source": [
    "# 1.0 Introduction\n",
    "美国东北大学一个科研团队的一项研究表明，人类93%的行为都是可以预测的，想一想我们的规律生活，就会觉得这个数字并不是那么夸张。也正因如此， 交通才得以合理规划，城市才得以有序发展。 在实际应用中，其实并没有那么容易预测，数据的缺乏是一个重要的原因。那么在有限的数据下，我们能够在多大程度上预测出人们的行为呢？\n",
    "\n",
    "## 1.1 Evaluation :\n",
    "\n",
    "score of the distance\n",
    "<img src=\"img/eval1.png\",width=200,height=60>\n",
    "<img src=\"img/eval2.png\",width=270,height=60>\n",
    "where di is the distance (in metre), n is the number of samples. (the best sccore is 0.01798, when all the distance is 0)"
   ]
  },
  {
   "cell_type": "markdown",
   "metadata": {},
   "source": [
    "# 2 Data (EDA)"
   ]
  },
  {
   "cell_type": "code",
   "execution_count": 47,
   "metadata": {
    "scrolled": true
   },
   "outputs": [],
   "source": [
    "train_df = pd.read_csv('train.csv', low_memory=False)\n",
    "test_df = pd.read_csv('test.csv', low_memory=False)"
   ]
  },
  {
   "cell_type": "code",
   "execution_count": 3,
   "metadata": {},
   "outputs": [
    {
     "name": "stdout",
     "output_type": "stream",
     "text": [
      "the shape of the training set is : (1495814, 8)\n"
     ]
    },
    {
     "data": {
      "text/html": [
       "<div>\n",
       "<style scoped>\n",
       "    .dataframe tbody tr th:only-of-type {\n",
       "        vertical-align: middle;\n",
       "    }\n",
       "\n",
       "    .dataframe tbody tr th {\n",
       "        vertical-align: top;\n",
       "    }\n",
       "\n",
       "    .dataframe thead th {\n",
       "        text-align: right;\n",
       "    }\n",
       "</style>\n",
       "<table border=\"1\" class=\"dataframe\">\n",
       "  <thead>\n",
       "    <tr style=\"text-align: right;\">\n",
       "      <th></th>\n",
       "      <th>r_key</th>\n",
       "      <th>out_id</th>\n",
       "      <th>start_time</th>\n",
       "      <th>end_time</th>\n",
       "      <th>start_lat</th>\n",
       "      <th>start_lon</th>\n",
       "      <th>end_lat</th>\n",
       "      <th>end_lon</th>\n",
       "    </tr>\n",
       "  </thead>\n",
       "  <tbody>\n",
       "    <tr>\n",
       "      <th>0</th>\n",
       "      <td>SDK-XJ_609994b4d50a8a07a64d41d1f70bbb05</td>\n",
       "      <td>2016061820000b</td>\n",
       "      <td>2018-01-20 10:13:43</td>\n",
       "      <td>2018-01-20 10:19:04</td>\n",
       "      <td>33.783415</td>\n",
       "      <td>111.603660</td>\n",
       "      <td>33.779811</td>\n",
       "      <td>111.605885</td>\n",
       "    </tr>\n",
       "    <tr>\n",
       "      <th>1</th>\n",
       "      <td>SDK-XJ_4c2f29d94c9478623711756e4ae34cc5</td>\n",
       "      <td>2016061820000b</td>\n",
       "      <td>2018-02-12 17:40:51</td>\n",
       "      <td>2018-02-12 17:58:13</td>\n",
       "      <td>34.810763</td>\n",
       "      <td>115.549264</td>\n",
       "      <td>34.814875</td>\n",
       "      <td>115.549374</td>\n",
       "    </tr>\n",
       "    <tr>\n",
       "      <th>2</th>\n",
       "      <td>SDK-XJ_3570183177536a575b9da67a86efcd62</td>\n",
       "      <td>2016061820000b</td>\n",
       "      <td>2018-02-13 14:52:24</td>\n",
       "      <td>2018-02-13 15:24:33</td>\n",
       "      <td>34.640284</td>\n",
       "      <td>115.539024</td>\n",
       "      <td>34.813136</td>\n",
       "      <td>115.559243</td>\n",
       "    </tr>\n",
       "    <tr>\n",
       "      <th>3</th>\n",
       "      <td>SDK-XJ_78d749a376e190685716a51a6704010b</td>\n",
       "      <td>2016061820000b</td>\n",
       "      <td>2018-02-13 17:23:08</td>\n",
       "      <td>2018-02-13 17:39:02</td>\n",
       "      <td>34.818280</td>\n",
       "      <td>115.542039</td>\n",
       "      <td>34.813141</td>\n",
       "      <td>115.559217</td>\n",
       "    </tr>\n",
       "    <tr>\n",
       "      <th>4</th>\n",
       "      <td>SDK-XJ_3b249941c27834f5e43d43a9114e4909</td>\n",
       "      <td>2016061820000b</td>\n",
       "      <td>2018-02-13 18:06:02</td>\n",
       "      <td>2018-02-13 19:02:51</td>\n",
       "      <td>34.813278</td>\n",
       "      <td>115.559260</td>\n",
       "      <td>34.786126</td>\n",
       "      <td>115.874361</td>\n",
       "    </tr>\n",
       "  </tbody>\n",
       "</table>\n",
       "</div>"
      ],
      "text/plain": [
       "                                     r_key          out_id  \\\n",
       "0  SDK-XJ_609994b4d50a8a07a64d41d1f70bbb05  2016061820000b   \n",
       "1  SDK-XJ_4c2f29d94c9478623711756e4ae34cc5  2016061820000b   \n",
       "2  SDK-XJ_3570183177536a575b9da67a86efcd62  2016061820000b   \n",
       "3  SDK-XJ_78d749a376e190685716a51a6704010b  2016061820000b   \n",
       "4  SDK-XJ_3b249941c27834f5e43d43a9114e4909  2016061820000b   \n",
       "\n",
       "            start_time             end_time  start_lat   start_lon    end_lat  \\\n",
       "0  2018-01-20 10:13:43  2018-01-20 10:19:04  33.783415  111.603660  33.779811   \n",
       "1  2018-02-12 17:40:51  2018-02-12 17:58:13  34.810763  115.549264  34.814875   \n",
       "2  2018-02-13 14:52:24  2018-02-13 15:24:33  34.640284  115.539024  34.813136   \n",
       "3  2018-02-13 17:23:08  2018-02-13 17:39:02  34.818280  115.542039  34.813141   \n",
       "4  2018-02-13 18:06:02  2018-02-13 19:02:51  34.813278  115.559260  34.786126   \n",
       "\n",
       "      end_lon  \n",
       "0  111.605885  \n",
       "1  115.549374  \n",
       "2  115.559243  \n",
       "3  115.559217  \n",
       "4  115.874361  "
      ]
     },
     "execution_count": 3,
     "metadata": {},
     "output_type": "execute_result"
    }
   ],
   "source": [
    "print('the shape of the training set is :', train_df.shape)\n",
    "train_df.head()"
   ]
  },
  {
   "cell_type": "markdown",
   "metadata": {},
   "source": [
    "r_key is the sample id. out_id is the car id. No nan value"
   ]
  },
  {
   "cell_type": "markdown",
   "metadata": {},
   "source": [
    "## 1.1 get the distance of all training set"
   ]
  },
  {
   "cell_type": "code",
   "execution_count": 14,
   "metadata": {},
   "outputs": [],
   "source": [
    "def getDistance(latA, lonA, latB, lonB):  \n",
    "    ra = 6378140  \t\t\t# radius of equator: meter  \n",
    "    rb = 6356755  \t\t\t# radius of polar: meter  \n",
    "    flatten = (ra - rb) / ra  \t# Partial rate of the earth  \n",
    "    # change angle to radians  \n",
    "    radLatA = np.pi*(latA)/180\n",
    "    radLonA = np.pi*(lonA)/180  \n",
    "    radLatB = np.pi*(latB)/180  \n",
    "    radLonB = np.pi*(lonB)/180  \n",
    "    try: \n",
    "        pA = np.arctan(rb / ra * np.tan(radLatA))  \n",
    "        pB = np.arctan(rb / ra * np.tan(radLatB))  \n",
    "        x = np.arccos(np.sin(pA) * np.sin(pB) + np.cos(pA) * np.cos(pB) * np.cos(radLonA - radLonB))  \n",
    "        c1 = (np.sin(x) - x) * (np.sin(pA) + np.sin(pB))**2 / np.cos(x / 2)**2  \n",
    "        c2 = (np.sin(x) + x) * (np.sin(pA) - np.sin(pB))**2 / np.sin(x / 2)**2  \n",
    "        dr = flatten / 8 * (c1 - c2)  \n",
    "        distance = ra * (x + dr)  \n",
    "        return distance\t\t\t# meter  \n",
    "    except:\n",
    "        return 0.0000001"
   ]
  },
  {
   "cell_type": "code",
   "execution_count": 15,
   "metadata": {},
   "outputs": [],
   "source": [
    "distance = getDistance(train_df['start_lat'], train_df['start_lon'] , train_df['end_lat'], train_df['end_lon'])\n",
    "train_df['distance'] = distance"
   ]
  },
  {
   "cell_type": "markdown",
   "metadata": {},
   "source": [
    "## 1.2 get the time duration of trainning set"
   ]
  },
  {
   "cell_type": "code",
   "execution_count": 3,
   "metadata": {},
   "outputs": [],
   "source": [
    "train_df['duration'] = (pd.to_datetime(train_df.end_time) - pd.to_datetime(train_df.start_time)).dt.total_seconds()"
   ]
  },
  {
   "cell_type": "code",
   "execution_count": 4,
   "metadata": {},
   "outputs": [
    {
     "name": "stdout",
     "output_type": "stream",
     "text": [
      "the min and max of start lat is : 18.222925 49.746388\n",
      "the min and max of start lon is : 75.03050400000002 134.75346399999998\n"
     ]
    }
   ],
   "source": [
    "print('the min and max of start lat is :', train_df.start_lat.min(), train_df.start_lat.max())\n",
    "print('the min and max of start lon is :', train_df.start_lon.min(), train_df.start_lon.max())"
   ]
  },
  {
   "cell_type": "markdown",
   "metadata": {},
   "source": [
    "## 1.3 start position\n",
    "let's see the start position of the data"
   ]
  },
  {
   "cell_type": "code",
   "execution_count": 42,
   "metadata": {},
   "outputs": [
    {
     "data": {
      "image/png": "[encoded data removed]",
      "text/plain": [
       "<Figure size 432x288 with 2 Axes>"
      ]
     },
     "metadata": {},
     "output_type": "display_data"
    }
   ],
   "source": [
    "ax2 = train_df.plot.scatter(x='start_lon',\n",
    "                       y='start_lat',\n",
    "                       c='distance',\n",
    "                       colormap='viridis')"
   ]
  },
  {
   "cell_type": "markdown",
   "metadata": {},
   "source": [
    "I found the corresponding map from google , which is about:\n",
    "![title](img/map.PNG)\n",
    "the data are took from all over the country"
   ]
  },
  {
   "cell_type": "code",
   "execution_count": 50,
   "metadata": {},
   "outputs": [
    {
     "data": {
      "image/png": "[encoded data removed]",
      "text/plain": [
       "<Figure size 432x288 with 2 Axes>"
      ]
     },
     "metadata": {},
     "output_type": "display_data"
    }
   ],
   "source": [
    "hist = train_df[['distance', 'duration']].hist(bins=100)"
   ]
  },
  {
   "cell_type": "markdown",
   "metadata": {},
   "source": [
    "## 1.4 time and the distance\n",
    "let's see the relation between the time and the distance."
   ]
  },
  {
   "cell_type": "code",
   "execution_count": 52,
   "metadata": {},
   "outputs": [
    {
     "data": {
      "text/plain": [
       "<matplotlib.axes._subplots.AxesSubplot at 0x1381d0d70f0>"
      ]
     },
     "execution_count": 52,
     "metadata": {},
     "output_type": "execute_result"
    },
    {
     "data": {
      "image/png": "[encoded data removed]",
      "text/plain": [
       "<Figure size 288x288 with 2 Axes>"
      ]
     },
     "metadata": {},
     "output_type": "display_data"
    }
   ],
   "source": [
    "df_train = train_df.drop(columns=['r_key', 'out_id','start_time','end_time', 'start_lat',  'start_lon',  'end_lat',  'end_lon'])\n",
    "df_train_norm = (df_train - df_train.mean()) / (df_train.max() - df_train.min())\n",
    "# df_train['target'] = df_train.returnsOpenNextMktres11 >= 0\n",
    "# correlation matrix\n",
    "corrmat = df_train.corr()\n",
    "f, ax = plt.subplots(figsize=(4, 4))\n",
    "sns.heatmap(corrmat, vmax=.8, vmin=-.8, square=True)"
   ]
  },
  {
   "cell_type": "markdown",
   "metadata": {},
   "source": [
    "## 1.5 ids"
   ]
  },
  {
   "cell_type": "code",
   "execution_count": 5,
   "metadata": {},
   "outputs": [
    {
     "name": "stdout",
     "output_type": "stream",
     "text": [
      "the maximum of the number of samples of a single car is : 582\n",
      "the minimum of the number of samples of a single car is : 87\n",
      "the mean of the number of samples of a single car is : 257.14526388172595\n"
     ]
    }
   ],
   "source": [
    "print('the maximum of the number of samples of a single car is :',\n",
    "     train_df.groupby('out_id').count().max().r_key)\n",
    "print('the minimum of the number of samples of a single car is :',\n",
    "     train_df.groupby('out_id').count().min().r_key)\n",
    "print('the mean of the number of samples of a single car is :',\n",
    "     train_df.groupby('out_id').count().mean().r_key)"
   ]
  },
  {
   "cell_type": "code",
   "execution_count": 23,
   "metadata": {
    "scrolled": true
   },
   "outputs": [],
   "source": [
    "# train_df.out_id.value_counts().shape"
   ]
  },
  {
   "cell_type": "code",
   "execution_count": 16,
   "metadata": {},
   "outputs": [],
   "source": [
    "temp_df =  train_df[ train_df.out_id == 'CT910M01E2AA08GG00270']"
   ]
  },
  {
   "cell_type": "code",
   "execution_count": 20,
   "metadata": {},
   "outputs": [
    {
     "data": {
      "image/png": "[encoded data removed]",
      "text/plain": [
       "<Figure size 432x288 with 2 Axes>"
      ]
     },
     "metadata": {},
     "output_type": "display_data"
    },
    {
     "data": {
      "image/png": "[encoded data removed]",
      "text/plain": [
       "<Figure size 432x288 with 2 Axes>"
      ]
     },
     "metadata": {},
     "output_type": "display_data"
    }
   ],
   "source": [
    "ax2 = temp_df.plot.scatter(x='start_lon',\n",
    "                       y='start_lat',\n",
    "                       c='distance',\n",
    "                       colormap='viridis')\n",
    "ax2 = temp_df.plot.scatter(x='end_lon',\n",
    "                       y='end_lat',\n",
    "                       c='distance',\n",
    "                       colormap='viridis')"
   ]
  },
  {
   "cell_type": "code",
   "execution_count": 21,
   "metadata": {},
   "outputs": [],
   "source": [
    "temp_df = train_df[train_df.out_id == 'CT910M01E2AA08GG00270']\n",
    "temp_df = temp_df[temp_df.start_lat < 30.4]"
   ]
  },
  {
   "cell_type": "code",
   "execution_count": 22,
   "metadata": {},
   "outputs": [
    {
     "data": {
      "text/html": [
       "<div>\n",
       "<style scoped>\n",
       "    .dataframe tbody tr th:only-of-type {\n",
       "        vertical-align: middle;\n",
       "    }\n",
       "\n",
       "    .dataframe tbody tr th {\n",
       "        vertical-align: top;\n",
       "    }\n",
       "\n",
       "    .dataframe thead th {\n",
       "        text-align: right;\n",
       "    }\n",
       "</style>\n",
       "<table border=\"1\" class=\"dataframe\">\n",
       "  <thead>\n",
       "    <tr style=\"text-align: right;\">\n",
       "      <th></th>\n",
       "      <th>r_key</th>\n",
       "      <th>out_id</th>\n",
       "      <th>start_time</th>\n",
       "      <th>end_time</th>\n",
       "      <th>start_lat</th>\n",
       "      <th>start_lon</th>\n",
       "      <th>end_lat</th>\n",
       "      <th>end_lon</th>\n",
       "      <th>duration</th>\n",
       "      <th>distance</th>\n",
       "    </tr>\n",
       "  </thead>\n",
       "  <tbody>\n",
       "    <tr>\n",
       "      <th>1495755</th>\n",
       "      <td>SDK-XJ_43cd5313699a53bb321a7d3da7ee2e7f</td>\n",
       "      <td>CT910M01E2AA08GG00270</td>\n",
       "      <td>2018-04-30 07:57:09</td>\n",
       "      <td>2018-04-30 08:34:30</td>\n",
       "      <td>29.996248</td>\n",
       "      <td>102.990157</td>\n",
       "      <td>30.079962</td>\n",
       "      <td>102.992810</td>\n",
       "      <td>2241.0</td>\n",
       "      <td>9283.476218</td>\n",
       "    </tr>\n",
       "    <tr>\n",
       "      <th>1495756</th>\n",
       "      <td>SDK-XJ_20abbfeb13eb8f6dbdd0d1e0125fc8ca</td>\n",
       "      <td>CT910M01E2AA08GG00270</td>\n",
       "      <td>2018-04-30 14:11:21</td>\n",
       "      <td>2018-04-30 16:17:38</td>\n",
       "      <td>30.079982</td>\n",
       "      <td>102.992993</td>\n",
       "      <td>30.603222</td>\n",
       "      <td>103.634664</td>\n",
       "      <td>7577.0</td>\n",
       "      <td>84683.891554</td>\n",
       "    </tr>\n",
       "  </tbody>\n",
       "</table>\n",
       "</div>"
      ],
      "text/plain": [
       "                                           r_key                 out_id  \\\n",
       "1495755  SDK-XJ_43cd5313699a53bb321a7d3da7ee2e7f  CT910M01E2AA08GG00270   \n",
       "1495756  SDK-XJ_20abbfeb13eb8f6dbdd0d1e0125fc8ca  CT910M01E2AA08GG00270   \n",
       "\n",
       "                  start_time             end_time  start_lat   start_lon  \\\n",
       "1495755  2018-04-30 07:57:09  2018-04-30 08:34:30  29.996248  102.990157   \n",
       "1495756  2018-04-30 14:11:21  2018-04-30 16:17:38  30.079982  102.992993   \n",
       "\n",
       "           end_lat     end_lon  duration      distance  \n",
       "1495755  30.079962  102.992810    2241.0   9283.476218  \n",
       "1495756  30.603222  103.634664    7577.0  84683.891554  "
      ]
     },
     "execution_count": 22,
     "metadata": {},
     "output_type": "execute_result"
    }
   ],
   "source": [
    "temp_df"
   ]
  },
  {
   "cell_type": "markdown",
   "metadata": {},
   "source": [
    "# Data augmentation\n",
    "- Take the reverse of start and end as new data set.\n",
    "- As the duration is mostly small, it won't effect a lot the result. So leave it alone for now. (todo later)"
   ]
  },
  {
   "cell_type": "code",
   "execution_count": 35,
   "metadata": {},
   "outputs": [
    {
     "name": "stdout",
     "output_type": "stream",
     "text": [
      "the shape of the new training set is : (2991628, 10)\n"
     ]
    }
   ],
   "source": [
    "train_df_new = train_df.copy()\n",
    "train_df_new.rename(columns={'start_lat':'end_lat','start_lon':'end_lon', \n",
    "                             'end_lat':'start_lat','end_lon':'start_lon'}, inplace=True)\n",
    "train_df = pd.concat([train_df, train_df_new])\n",
    "print('the shape of the new training set is :', train_df.shape)"
   ]
  },
  {
   "cell_type": "markdown",
   "metadata": {},
   "source": [
    "# Make submission\n",
    "## 1  submission of the same position "
   ]
  },
  {
   "cell_type": "code",
   "execution_count": 3,
   "metadata": {},
   "outputs": [],
   "source": [
    "example_test_df = pd.read_csv('sample.csv', low_memory=False)"
   ]
  },
  {
   "cell_type": "code",
   "execution_count": 9,
   "metadata": {},
   "outputs": [
    {
     "name": "stdout",
     "output_type": "stream",
     "text": [
      "(47493, 3) (47493, 5)\n"
     ]
    },
    {
     "data": {
      "text/html": [
       "<div>\n",
       "<style scoped>\n",
       "    .dataframe tbody tr th:only-of-type {\n",
       "        vertical-align: middle;\n",
       "    }\n",
       "\n",
       "    .dataframe tbody tr th {\n",
       "        vertical-align: top;\n",
       "    }\n",
       "\n",
       "    .dataframe thead th {\n",
       "        text-align: right;\n",
       "    }\n",
       "</style>\n",
       "<table border=\"1\" class=\"dataframe\">\n",
       "  <thead>\n",
       "    <tr style=\"text-align: right;\">\n",
       "      <th></th>\n",
       "      <th>r_key</th>\n",
       "      <th>end_lat</th>\n",
       "      <th>end_lon</th>\n",
       "    </tr>\n",
       "  </thead>\n",
       "  <tbody>\n",
       "    <tr>\n",
       "      <th>0</th>\n",
       "      <td>SDK-XJ_7534ad707d53c355b3f99e60873e0078</td>\n",
       "      <td>34</td>\n",
       "      <td>117</td>\n",
       "    </tr>\n",
       "    <tr>\n",
       "      <th>1</th>\n",
       "      <td>SDK-XJ_cb264818af319586fe1b5590220d6538</td>\n",
       "      <td>34</td>\n",
       "      <td>117</td>\n",
       "    </tr>\n",
       "    <tr>\n",
       "      <th>2</th>\n",
       "      <td>SDK-XJ_5866d63b8453b2dd0c7353c0ad22989d</td>\n",
       "      <td>34</td>\n",
       "      <td>117</td>\n",
       "    </tr>\n",
       "    <tr>\n",
       "      <th>3</th>\n",
       "      <td>SDK-XJ_f58ce77e4b2733867b19f83506acfe2c</td>\n",
       "      <td>34</td>\n",
       "      <td>117</td>\n",
       "    </tr>\n",
       "    <tr>\n",
       "      <th>4</th>\n",
       "      <td>SDK-XJ_aef2eed237cd4a22b1fc7ffcc2b214aa</td>\n",
       "      <td>34</td>\n",
       "      <td>117</td>\n",
       "    </tr>\n",
       "  </tbody>\n",
       "</table>\n",
       "</div>"
      ],
      "text/plain": [
       "                                     r_key  end_lat  end_lon\n",
       "0  SDK-XJ_7534ad707d53c355b3f99e60873e0078       34      117\n",
       "1  SDK-XJ_cb264818af319586fe1b5590220d6538       34      117\n",
       "2  SDK-XJ_5866d63b8453b2dd0c7353c0ad22989d       34      117\n",
       "3  SDK-XJ_f58ce77e4b2733867b19f83506acfe2c       34      117\n",
       "4  SDK-XJ_aef2eed237cd4a22b1fc7ffcc2b214aa       34      117"
      ]
     },
     "execution_count": 9,
     "metadata": {},
     "output_type": "execute_result"
    }
   ],
   "source": [
    "print(example_test_df.shape, test_df.shape)\n",
    "example_test_df.head()"
   ]
  },
  {
   "cell_type": "code",
   "execution_count": 15,
   "metadata": {},
   "outputs": [
    {
     "data": {
      "text/html": [
       "<div>\n",
       "<style scoped>\n",
       "    .dataframe tbody tr th:only-of-type {\n",
       "        vertical-align: middle;\n",
       "    }\n",
       "\n",
       "    .dataframe tbody tr th {\n",
       "        vertical-align: top;\n",
       "    }\n",
       "\n",
       "    .dataframe thead th {\n",
       "        text-align: right;\n",
       "    }\n",
       "</style>\n",
       "<table border=\"1\" class=\"dataframe\">\n",
       "  <thead>\n",
       "    <tr style=\"text-align: right;\">\n",
       "      <th></th>\n",
       "      <th>r_key</th>\n",
       "      <th>end_lat</th>\n",
       "      <th>end_lon</th>\n",
       "    </tr>\n",
       "  </thead>\n",
       "  <tbody>\n",
       "    <tr>\n",
       "      <th>0</th>\n",
       "      <td>SDK-XJ_212b1190d5924bc6225557f1105b2b21</td>\n",
       "      <td>34.873591</td>\n",
       "      <td>117.573400</td>\n",
       "    </tr>\n",
       "    <tr>\n",
       "      <th>1</th>\n",
       "      <td>SDK-XJ_1acf33d4e624fc5b0ff259c23743de0f</td>\n",
       "      <td>34.846818</td>\n",
       "      <td>117.565654</td>\n",
       "    </tr>\n",
       "    <tr>\n",
       "      <th>2</th>\n",
       "      <td>SDK-XJ_5866d63b8453b2dd0c7353c0ad22989d</td>\n",
       "      <td>34.873579</td>\n",
       "      <td>117.573436</td>\n",
       "    </tr>\n",
       "    <tr>\n",
       "      <th>3</th>\n",
       "      <td>SDK-XJ_e670157d7b0eaeb7ee11ae7b953e9a2e</td>\n",
       "      <td>34.873735</td>\n",
       "      <td>117.573475</td>\n",
       "    </tr>\n",
       "    <tr>\n",
       "      <th>4</th>\n",
       "      <td>SDK-XJ_aef2eed237cd4a22b1fc7ffcc2b214aa</td>\n",
       "      <td>34.846793</td>\n",
       "      <td>117.565553</td>\n",
       "    </tr>\n",
       "  </tbody>\n",
       "</table>\n",
       "</div>"
      ],
      "text/plain": [
       "                                     r_key    end_lat     end_lon\n",
       "0  SDK-XJ_212b1190d5924bc6225557f1105b2b21  34.873591  117.573400\n",
       "1  SDK-XJ_1acf33d4e624fc5b0ff259c23743de0f  34.846818  117.565654\n",
       "2  SDK-XJ_5866d63b8453b2dd0c7353c0ad22989d  34.873579  117.573436\n",
       "3  SDK-XJ_e670157d7b0eaeb7ee11ae7b953e9a2e  34.873735  117.573475\n",
       "4  SDK-XJ_aef2eed237cd4a22b1fc7ffcc2b214aa  34.846793  117.565553"
      ]
     },
     "execution_count": 15,
     "metadata": {},
     "output_type": "execute_result"
    }
   ],
   "source": [
    "submission_df = test_df.drop(columns=['out_id','start_time'])\n",
    "submission_df.rename(columns={'start_lat':'end_lat','start_lon':'end_lon'}, inplace=True)\n",
    "submission_df.head()"
   ]
  },
  {
   "cell_type": "code",
   "execution_count": 97,
   "metadata": {},
   "outputs": [],
   "source": [
    "submission_df.to_csv('submission.csv', index=False)"
   ]
  },
  {
   "cell_type": "markdown",
   "metadata": {},
   "source": [
    "score is 0.81609"
   ]
  },
  {
   "cell_type": "markdown",
   "metadata": {},
   "source": [
    "## 2 bayes"
   ]
  },
  {
   "cell_type": "code",
   "execution_count": 16,
   "metadata": {},
   "outputs": [],
   "source": [
    "train_df['start_time_hour'] = (pd.to_datetime(train_df.start_time)).dt.hour"
   ]
  },
  {
   "cell_type": "code",
   "execution_count": 32,
   "metadata": {},
   "outputs": [],
   "source": [
    "# parameters\n",
    "interval = np.arcsin(100/6371000)*180/np.pi\n",
    "inv_hour = 1"
   ]
  },
  {
   "cell_type": "code",
   "execution_count": 34,
   "metadata": {},
   "outputs": [],
   "source": [
    "def choose_sub_df(time, lat, lon):\n",
    "    temp_df = train_df[(train_df.start_time_hour <= int(time[11:13])+inv_hour ) \n",
    "                       & (train_df.start_time_hour >= int(time[11:13])-inv_hour )]\n",
    "    temp_df = temp_df[(temp_df.start_lat <= lat+interval ) & (temp_df.start_lat >= lat-interval )]\n",
    "    temp_df = temp_df[(temp_df.start_lon <= lon+interval ) & (temp_df.start_lon >= lon-interval )]\n",
    "    return temp_df"
   ]
  },
  {
   "cell_type": "code",
   "execution_count": 35,
   "metadata": {},
   "outputs": [],
   "source": [
    "def reject_outlier(sub_df):\n",
    "    vari_lat = max(sub_df.max().end_lat-sub_df.mean().end_lat, sub_df.mean().end_lat-sub_df.min().end_lat)\n",
    "    vari_lon = max(sub_df.max().end_lon-sub_df.mean().end_lon, sub_df.mean().end_lon-sub_df.min().end_lon)\n",
    "    sub_df = sub_df[(sub_df.end_lat <= sub_df.mean().end_lat+vari_lat*0.8 )\n",
    "                    & (sub_df.end_lat >= sub_df.mean().end_lat-vari_lat*0.8 )]\n",
    "    sub_df = sub_df[(sub_df.end_lon <= sub_df.mean().end_lon+vari_lon*0.8 )\n",
    "                    & (sub_df.end_lon >= sub_df.mean().end_lon-vari_lon*0.8 )]\n",
    "    return sub_df.mean().end_lat, sub_df.mean().end_lon, sub_df.shape[0]"
   ]
  },
  {
   "cell_type": "code",
   "execution_count": 36,
   "metadata": {
    "scrolled": true
   },
   "outputs": [
    {
     "name": "stderr",
     "output_type": "stream",
     "text": [
      "100%|#########################################################################|\r"
     ]
    },
    {
     "name": "stdout",
     "output_type": "stream",
     "text": [
      "percentage of non values is : 0.2251910807908534\n"
     ]
    },
    {
     "name": "stderr",
     "output_type": "stream",
     "text": [
      "\n"
     ]
    }
   ],
   "source": [
    "widgets = [progressbar.Percentage(), progressbar.Bar()]\n",
    "bar = progressbar.ProgressBar(widgets=widgets, maxval=test_df.shape[0]).start()\n",
    "\n",
    "non_count = 0\n",
    "for i in range(test_df.shape[0]):\n",
    "    current = test_df.iloc[i]\n",
    "    time = current['start_time']\n",
    "    lat = current['start_lat']\n",
    "    lon = current['start_lon']\n",
    "    sub_df = choose_sub_df(time, lat, lon)\n",
    "    end_lat, end_lon , iff= reject_outlier(sub_df)\n",
    "    if iff == 0:\n",
    "        end_lat = lat\n",
    "        end_lon = lon\n",
    "        non_count += 1\n",
    "    submission_df.set_value(i, 'end_lat', end_lat)\n",
    "    submission_df.set_value(i, 'end_lon', end_lon)\n",
    "    bar.update(i + 1)\n",
    "bar.finish()\n",
    "submission_df.head()\n",
    "print('percentage of non values is :', non_count/test_df.shape[0])"
   ]
  },
  {
   "cell_type": "code",
   "execution_count": 37,
   "metadata": {},
   "outputs": [],
   "source": [
    "submission_df.to_csv('submission_3.csv', index=False)"
   ]
  },
  {
   "cell_type": "markdown",
   "metadata": {},
   "source": [
    "### 2018/10/25\n",
    "- interval of radius : about 100 metres\n",
    "- interval time : 1 houor\n",
    "- score 0.55\n",
    "\n",
    "### 2018/10/26\n",
    "- with data augmentation (size 2 times bigger)\n",
    "- interval of radius : about 100 metres\n",
    "- interval time : 2 houor\n",
    "- percentage of non values is : 0.18512201798159728\n",
    "- score 0.59\n",
    "\n",
    "### 2018/10/26\n",
    "- with data augmentation (size 2 times bigger)\n",
    "- interval of radius : about 100 metres\n",
    "- interval time : 1 houor\n",
    "- percentage of non values is : 0.2251910807908534\n",
    "- score because of changement of the test data, no result\n",
    "\n",
    "plan: ensembling \n",
    "- group behaviour (model upper)\n",
    "- client behaviour (common visited place of the client)"
   ]
  },
  {
   "cell_type": "markdown",
   "metadata": {},
   "source": [
    "## 3 based on personal info"
   ]
  },
  {
   "cell_type": "code",
   "execution_count": 34,
   "metadata": {},
   "outputs": [
    {
     "name": "stdout",
     "output_type": "stream",
     "text": [
      "there is(are)  0  id(s) not in training set.\n"
     ]
    }
   ],
   "source": [
    "ids = train_df.out_id.unique()\n",
    "not_in_trainset = []\n",
    "n_count = 0\n",
    "for i in range(test_df.shape[0]):\n",
    "    current = test_df.iloc[i]\n",
    "    car_id = current['out_id']\n",
    "    if car_id not in ids:\n",
    "        n_count += 1\n",
    "        not_in_trainset.append(car_id)\n",
    "print('there is(are) ', n_count, ' id(s) not in training set.')"
   ]
  },
  {
   "cell_type": "code",
   "execution_count": 48,
   "metadata": {},
   "outputs": [],
   "source": [
    "train_df['start_time_hour'] = (pd.to_datetime(train_df.start_time)).dt.hour"
   ]
  },
  {
   "cell_type": "code",
   "execution_count": 49,
   "metadata": {},
   "outputs": [],
   "source": [
    "def choose_sub_df_v2(temp_df, time, lat, lon, interval, inv_hour):\n",
    "    temp_df = temp_df[(temp_df.start_time_hour <= int(time[11:13])+inv_hour ) \n",
    "                       & (temp_df.start_time_hour >= int(time[11:13])-inv_hour )]\n",
    "    temp_df = temp_df[(temp_df.start_lat <= lat+interval ) & (temp_df.start_lat >= lat-interval )]\n",
    "    temp_df = temp_df[(temp_df.start_lon <= lon+interval ) & (temp_df.start_lon >= lon-interval )]\n",
    "    return temp_df"
   ]
  },
  {
   "cell_type": "code",
   "execution_count": 64,
   "metadata": {},
   "outputs": [],
   "source": [
    "def choose_sub_df_id(time, lat, lon, car_id):\n",
    "    max_iter = 20\n",
    "    temp_df = train_df\n",
    "    id_sorted_df = temp_df[temp_df.out_id == car_id]\n",
    "    \n",
    "    gotten = False\n",
    "    for i in range(max_iter):\n",
    "        range_in_meter = 100 + 20*i\n",
    "        interval = np.arcsin(range_in_meter/6371000)*180/np.pi\n",
    "        inv_hour = 1 + 0.5*i\n",
    "        temp_df_phy = choose_sub_df_v2(id_sorted_df, time, lat, lon, interval, inv_hour)\n",
    "        # if we got some samples, make another enlargement, and set it as the final sub set.\n",
    "        # to have more data in the set\n",
    "        if gotten:\n",
    "            break\n",
    "        if temp_df_phy.shape[0] >= 1:\n",
    "            gotten = True\n",
    "            \n",
    "    if temp_df_phy.shape[0] == 0:\n",
    "        id_sorted_df['dist'] = abs(id_sorted_df['start_lat'] - lat) + abs(id_sorted_df['start_lon'] - lon)\n",
    "        temp_df_phy = id_sorted_df.sort_values(by=['dist']).head(5)\n",
    "    \n",
    "    return temp_df_phy"
   ]
  },
  {
   "cell_type": "code",
   "execution_count": 61,
   "metadata": {},
   "outputs": [],
   "source": [
    "def calculate_predict(sub_df):\n",
    "    vari_lat = max(sub_df.max().end_lat-sub_df.mean().end_lat, sub_df.mean().end_lat-sub_df.min().end_lat)\n",
    "    vari_lon = max(sub_df.max().end_lon-sub_df.mean().end_lon, sub_df.mean().end_lon-sub_df.min().end_lon)\n",
    "    if sub_df.shape[0] > 10:\n",
    "        sub_df = sub_df[(sub_df.end_lat <= sub_df.mean().end_lat+vari_lat*0.8 )\n",
    "                    & (sub_df.end_lat >= sub_df.mean().end_lat-vari_lat*0.8 )]\n",
    "        sub_df = sub_df[(sub_df.end_lon <= sub_df.mean().end_lon+vari_lon*0.8 )\n",
    "                    & (sub_df.end_lon >= sub_df.mean().end_lon-vari_lon*0.8 )]\n",
    "    return sub_df.mean().end_lat, sub_df.mean().end_lon, sub_df.shape[0]"
   ]
  },
  {
   "cell_type": "code",
   "execution_count": 62,
   "metadata": {},
   "outputs": [],
   "source": [
    "submission_df = test_df.drop(columns=['out_id','start_time'])\n",
    "submission_df.rename(columns={'start_lat':'end_lat','start_lon':'end_lon'}, inplace=True)"
   ]
  },
  {
   "cell_type": "code",
   "execution_count": 65,
   "metadata": {},
   "outputs": [
    {
     "name": "stderr",
     "output_type": "stream",
     "text": [
      "100%|#########################################################################|\r"
     ]
    },
    {
     "name": "stdout",
     "output_type": "stream",
     "text": [
      "percentage of non values is : 0.0006196533383823605\n"
     ]
    },
    {
     "name": "stderr",
     "output_type": "stream",
     "text": [
      "\n"
     ]
    }
   ],
   "source": [
    "widgets = [progressbar.Percentage(), progressbar.Bar()]\n",
    "bar = progressbar.ProgressBar(widgets=widgets, maxval=test_df.shape[0]).start()\n",
    "\n",
    "non_count = 0\n",
    "err_set = []\n",
    "for i in range(test_df.shape[0]):\n",
    "    current = test_df.iloc[i]\n",
    "    time = current['start_time']\n",
    "    lat = current['start_lat']\n",
    "    lon = current['start_lon']\n",
    "    car_id = current['out_id']\n",
    "    sub_df = choose_sub_df_id(time, lat, lon, car_id)\n",
    "    end_lat, end_lon , iff = calculate_predict(sub_df)\n",
    "    if iff == 0:\n",
    "        end_lat = lat\n",
    "        end_lon = lon\n",
    "        non_count += 1\n",
    "        err_set.append(current)\n",
    "    submission_df.set_value(i, 'end_lat', end_lat)\n",
    "    submission_df.set_value(i, 'end_lon', end_lon)\n",
    "    bar.update(i + 1)\n",
    "bar.finish()\n",
    "submission_df.head()\n",
    "print('percentage of non values is :', non_count/test_df.shape[0])"
   ]
  },
  {
   "cell_type": "markdown",
   "metadata": {},
   "source": [
    "- no data augementation , max_iter 20, (7381 non values), score: 0.55x\n",
    "- data augementation , max_iter 10, (7513 non values), score: 0.58x\n",
    "- no DA, max_iter 20, further (36 non values), score: 0.550"
   ]
  },
  {
   "cell_type": "code",
   "execution_count": 70,
   "metadata": {},
   "outputs": [],
   "source": [
    "submission_df.to_csv('submission_id2.csv', index=False)"
   ]
  }
 ],
 "metadata": {
  "kernelspec": {
   "display_name": "python 3.5 tf gpu",
   "language": "python",
   "name": "tensorflow_gpu"
  },
  "language_info": {
   "codemirror_mode": {
    "name": "ipython",
    "version": 3
   },
   "file_extension": ".py",
   "mimetype": "text/x-python",
   "name": "python",
   "nbconvert_exporter": "python",
   "pygments_lexer": "ipython3",
   "version": "3.5.5"
  }
 },
 "nbformat": 4,
 "nbformat_minor": 2
}
